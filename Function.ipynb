{
 "cells": [
  {
   "cell_type": "markdown",
   "id": "c4460bc2-cd15-4e3b-9548-6a73ca9f7cd9",
   "metadata": {},
   "source": [
    "### *Function Practice Question*"
   ]
  },
  {
   "cell_type": "markdown",
   "id": "0922945b-1143-482b-ae80-79a3e0a84029",
   "metadata": {},
   "source": [
    "**1. Write a Python function to find the maximum of three numbers.**"
   ]
  },
  {
   "cell_type": "code",
   "execution_count": null,
   "id": "41859f3f-3fbb-4ef8-aa60-53c671c1a18d",
   "metadata": {},
   "outputs": [],
   "source": [
    "def max_two(x,y):\n",
    "    if x>y:\n",
    "        return x\n",
    "    return y\n",
    "def max_three(x,y,z):\n",
    "    \n",
    "   return max_two(x,max_two(y,z))   "
   ]
  },
  {
   "cell_type": "code",
   "execution_count": null,
   "id": "47517baf-64d5-49ad-80c4-2b348aaaf6cd",
   "metadata": {},
   "outputs": [],
   "source": [
    "max_three(20,10,100)"
   ]
  },
  {
   "cell_type": "code",
   "execution_count": null,
   "id": "43d6d71d-682a-4403-854f-57d395fa4a85",
   "metadata": {},
   "outputs": [],
   "source": [
    "def max_two(x, y):\n",
    "    if x > y:\n",
    "        return x\n",
    "    return y\n",
    "def max_four(a,b,c,d):\n",
    "    max_ab=max_two(a,b)\n",
    "    max_cd=max_two(c,d)\n",
    "    return max_two(max_ab,max_cd)"
   ]
  },
  {
   "cell_type": "code",
   "execution_count": null,
   "id": "8fd069c4-1ff2-4e5b-82de-e226122b28fe",
   "metadata": {},
   "outputs": [],
   "source": [
    "max_four(200,939,9282,44)"
   ]
  },
  {
   "cell_type": "code",
   "execution_count": null,
   "id": "9dc8b871-8049-4f80-8f10-f73318c39855",
   "metadata": {},
   "outputs": [],
   "source": [
    "def max_any(x,y,z,u,a):\n",
    "    return max(x,y,z,u,a)"
   ]
  },
  {
   "cell_type": "code",
   "execution_count": null,
   "id": "8ea1a90e-20e3-4175-a1da-3d59bc5a0998",
   "metadata": {},
   "outputs": [],
   "source": [
    "max_any(1,2,3,4,5)"
   ]
  },
  {
   "cell_type": "markdown",
   "id": "da7dfbd0-405a-4840-8fbb-52a4c8bd575e",
   "metadata": {},
   "source": [
    "**2. Write a Python function to sum all the numbers in a list.<br>\n",
    "Sample List : (8, 2, 3, 0, 7)<br>\n",
    "Expected Output : 20**"
   ]
  },
  {
   "cell_type": "code",
   "execution_count": null,
   "id": "98eaa06b-0404-4b93-a54b-066e116ad006",
   "metadata": {},
   "outputs": [],
   "source": [
    "def sum_no():\n",
    "    user_input=input(\"number\")\n",
    "    total=0\n",
    "    for i in user_input:\n",
    "        i=int(i)\n",
    "        total += i\n",
    "    print(total)"
   ]
  },
  {
   "cell_type": "code",
   "execution_count": null,
   "id": "b96f2137-fd74-4caf-9ffe-6256c76909d6",
   "metadata": {},
   "outputs": [],
   "source": [
    "sum_no()"
   ]
  },
  {
   "cell_type": "markdown",
   "id": "3e03d066-b4a5-467c-829f-c5f9f07b007e",
   "metadata": {},
   "source": [
    "**3. Write a Python program to reverse a string.<br>\n",
    "Sample String : \"1234abcd\"**"
   ]
  },
  {
   "cell_type": "code",
   "execution_count": null,
   "id": "b0b36bed-60d5-49d6-9f95-a8a6dbbda230",
   "metadata": {},
   "outputs": [],
   "source": [
    "Sample_String = \"1234abcd\"\n",
    "print(Sample_String[::-1])"
   ]
  },
  {
   "cell_type": "markdown",
   "id": "e72a8210-653c-422c-96a0-37d2f7715ac4",
   "metadata": {},
   "source": [
    "**4. Write a Python function to calculate the factorial of a number (a non-negative integer). The function accepts the number as an argument.**"
   ]
  },
  {
   "cell_type": "code",
   "execution_count": 1,
   "id": "878686e4-0e7d-4ea8-bf51-47735ec29c36",
   "metadata": {},
   "outputs": [],
   "source": [
    "def fact(numbers):\n",
    "    total=1\n",
    "    for i in range(1,numbers+1):\n",
    "        total*=i\n",
    "    print(total)"
   ]
  },
  {
   "cell_type": "code",
   "execution_count": 2,
   "id": "e9fe0808-f58d-4304-b550-23b8f8e75afd",
   "metadata": {},
   "outputs": [
    {
     "name": "stdout",
     "output_type": "stream",
     "text": [
      "5040\n"
     ]
    }
   ],
   "source": [
    "fact(7)"
   ]
  },
  {
   "cell_type": "markdown",
   "id": "11334d4e-3f44-4724-9979-2e14b1eda5a3",
   "metadata": {},
   "source": [
    "**5. Write a Python function that accepts a string and counts the number of upper and lower case letters.<br>\n",
    "Sample String : 'The quick Brown fox'<br>\n",
    "Expected output<br>\n",
    "No. of Upper case charactr: 2 <br>\n",
    "No. of Lower cases : 14**"
   ]
  },
  {
   "cell_type": "code",
   "execution_count": null,
   "id": "648c6152-5ccd-4b54-8262-9208b0ff8312",
   "metadata": {},
   "outputs": [],
   "source": [
    "def count_upper_lower(sentence):\n",
    "    upper_count = 0\n",
    "    lower_count = 0\n",
    "    \n",
    "    for char in sentence:\n",
    "        if char.isupper():\n",
    "            upper_count += 1\n",
    "        elif char.islower():\n",
    "            lower_count += 1\n",
    "            \n",
    "    return upper_count, lower_count\n",
    "\n",
    "#Always use variables outside loops when you need to accumulate or maintain a value across loop iterations. \n",
    "#This ensures accurate calculations based on the entire input."
   ]
  },
  {
   "cell_type": "code",
   "execution_count": null,
   "id": "95a4529c-1060-4215-b2e8-c9fa2a9b55f1",
   "metadata": {},
   "outputs": [],
   "source": [
    "sentence = \"The quick Brown fox.\"\n",
    "upper_count, lower_count = count_upper_lower(sentence)\n",
    "count_upper_lower(sentence)\n",
    "print(f\"Number of uppercase letters: {upper_count}\")\n",
    "print(f\"Number of lowercase letters: {lower_count}\")"
   ]
  },
  {
   "cell_type": "markdown",
   "id": "33687668-246f-463e-b4f7-3f497a5957bf",
   "metadata": {},
   "source": [
    "**6.Write a  Python function that takes a list and returns a new list with distinct elements from the first list <br>\n",
    "Sample List : [1,2,3,3,3,3,4,5]<br>\n",
    "Unique List : [1, 2, 3, 4, 5<br>**"
   ]
  },
  {
   "cell_type": "code",
   "execution_count": null,
   "id": "41fdf3f8-8048-473e-9fb9-a1e52ea5372b",
   "metadata": {},
   "outputs": [],
   "source": [
    "def lis_fun():\n",
    "    unique_list=[]\n",
    "    sample_input=input().split(',')\n",
    "    for i in sample_input:\n",
    "        if i not in unique_list:\n",
    "            unique_list.append(i)\n",
    "    print(unique_list)\n",
    "#or\n",
    "def lis_func():\n",
    "    l=list(input())\n",
    "    print(set(l))"
   ]
  },
  {
   "cell_type": "markdown",
   "id": "cc768899-0bd1-4dcc-a3f5-f71afdaea47f",
   "metadata": {},
   "source": [
    "**7.Write a Python function that takes a number as a parameter and checks whether the number is prime or not.**"
   ]
  },
  {
   "cell_type": "code",
   "execution_count": null,
   "id": "95d421aa-aaf1-478d-b574-1571315a4a10",
   "metadata": {},
   "outputs": [],
   "source": [
    "def ali():\n",
    "    num=int(input())\n",
    "    if num ==1:\n",
    "        print(\"Not a prime\")\n",
    "    elif num >1:\n",
    "        for i in range(2,num):\n",
    "            if num % i == 0:\n",
    "                print(\"Not a prime\")\n",
    "                break\n",
    "        else:\n",
    "            print(\"prime\")\n",
    "    else:\n",
    "        print(\"Not prime\")"
   ]
  },
  {
   "cell_type": "code",
   "execution_count": null,
   "id": "5f3efaaf-37f8-4f78-91a9-d14038a2cd13",
   "metadata": {},
   "outputs": [],
   "source": [
    "ali()"
   ]
  },
  {
   "cell_type": "markdown",
   "id": "4efcb675-839e-4de0-8872-8fa44dcce3c4",
   "metadata": {},
   "source": [
    "**8.Write a  Python program to print the even numbers from a given list.<br>\n",
    "Sample List : [1, 2, 3, 4, 5, 6, 7, 8, 9]<br>\n",
    "Expected Result : [2, 4, 6, 8]**"
   ]
  },
  {
   "cell_type": "code",
   "execution_count": null,
   "id": "136594f3-49ec-4440-8422-8a50fb61d6d2",
   "metadata": {},
   "outputs": [],
   "source": [
    "def even_check():\n",
    "    number=[1, 2, 3, 4, 5, 6, 7, 8, 9]\n",
    "    for i in number:\n",
    "        if i % 2==0:\n",
    "            print(f\"{i} is Even\")\n",
    "        else:\n",
    "            print(f\"{i} not even\")\n",
    "        \n",
    "    "
   ]
  },
  {
   "cell_type": "code",
   "execution_count": null,
   "id": "4c30e0ac-e86b-4306-9c47-0f2617f102ba",
   "metadata": {},
   "outputs": [],
   "source": [
    "even_check()"
   ]
  },
  {
   "cell_type": "code",
   "execution_count": null,
   "id": "d2c61d72-24ff-4604-8a59-23cb432f3830",
   "metadata": {},
   "outputs": [],
   "source": []
  },
  {
   "cell_type": "raw",
   "id": "477a1bb5-d91e-4a02-a77e-e5fa9be7bc6f",
   "metadata": {},
   "source": [
    "10 # call function with 3 arguments\r\n",
    "func1(20, 40, 60)\r\n",
    "\r\n",
    "# call function with 2 arguments\r\n",
    "func1(80,)100)"
   ]
  },
  {
   "cell_type": "code",
   "execution_count": null,
   "id": "e9770ef9-69c4-46f2-8f76-e67242dec0ca",
   "metadata": {},
   "outputs": [],
   "source": [
    "def func_name(*args):\n",
    "    for i in args:\n",
    "        print(i)\n",
    "func_name(20,40,60)\n",
    "func_name(80,10)\n",
    "    \n",
    "    \n"
   ]
  },
  {
   "cell_type": "markdown",
   "id": "827892f7-918c-43a9-80c2-d575e68e8ef4",
   "metadata": {},
   "source": [
    "**11. Write a program to create function calculation()<br>\n",
    "such that it can accept two variables and calculate addition and subtraction.<br>\n",
    "Also, it must return both addition and subtraction in a single return call.**"
   ]
  },
  {
   "cell_type": "code",
   "execution_count": null,
   "id": "5023d6e8-ef58-4e75-9bc8-249cf50c6a04",
   "metadata": {},
   "outputs": [],
   "source": [
    "def calculation(n1,n2):\n",
    "   addition=n1+n2\n",
    "   subtraction=n1-n2\n",
    "   return addition,subtraction"
   ]
  },
  {
   "cell_type": "code",
   "execution_count": null,
   "id": "b1e55361-2748-40ab-b43f-7ae5297e1ebc",
   "metadata": {},
   "outputs": [],
   "source": [
    "calculation(1,2)"
   ]
  },
  {
   "cell_type": "code",
   "execution_count": null,
   "id": "32b679d3-7fc1-4b13-995d-485a1742f7bc",
   "metadata": {},
   "outputs": [],
   "source": [
    "def calculation(n1,m2):\n",
    "    return n1+m2,n1-m2"
   ]
  },
  {
   "cell_type": "code",
   "execution_count": null,
   "id": "5153391b-8ed2-4d12-bec4-aa31d8c0af13",
   "metadata": {},
   "outputs": [],
   "source": [
    "calculation(1,2)"
   ]
  },
  {
   "cell_type": "markdown",
   "id": "814d1c18-b54b-40ae-9d8c-d584aea80b89",
   "metadata": {},
   "source": [
    "**12.Write a program to create a function show_employee() using the following conditions.<br>\n",
    "It should accept the employee’s name and salary and display both.<br>\n",
    "If the salary is missing in the function call then assign default value 9000 to salary**"
   ]
  },
  {
   "cell_type": "code",
   "execution_count": null,
   "id": "e0ad5331-ba0c-4ba9-805c-31f2dedcc386",
   "metadata": {},
   "outputs": [],
   "source": [
    "def show_employee(name,salary=9000):\n",
    "    print(f\"Name: {name}: salary: {salary}\")\n",
    "    "
   ]
  },
  {
   "cell_type": "code",
   "execution_count": null,
   "id": "02888b84-0e1e-451b-afc7-765b985c7589",
   "metadata": {},
   "outputs": [],
   "source": [
    "show_employee(\"Ben\", 12000)\n",
    "show_employee(\"Jessa\")"
   ]
  },
  {
   "cell_type": "markdown",
   "id": "3da458e0-cd7e-4605-82de-3cb50cda8deb",
   "metadata": {},
   "source": [
    "**13.Create an outer function that will accept two parameters, a and b<br>\n",
    "Create an inner function inside an outer function that will calculate the addition of a and b<br>\n",
    "At last, an outer function will add 5 into addition and return it**"
   ]
  },
  {
   "cell_type": "code",
   "execution_count": 6,
   "id": "1c579825-6b64-4d0d-8751-3d3a3b34d452",
   "metadata": {},
   "outputs": [],
   "source": [
    "def outer_fucn(a,b):\n",
    "    def inner_fucn():\n",
    "        sum=a+b\n",
    "        return sum\n",
    "    return inner_fucn()+5"
   ]
  },
  {
   "cell_type": "code",
   "execution_count": 7,
   "id": "f7d7ede3-57ca-4d4e-ab7d-03dbf13486ac",
   "metadata": {},
   "outputs": [
    {
     "data": {
      "text/plain": [
       "15"
      ]
     },
     "execution_count": 7,
     "metadata": {},
     "output_type": "execute_result"
    }
   ],
   "source": [
    "outer_fucn(2,8)"
   ]
  },
  {
   "cell_type": "markdown",
   "id": "82b51f55-5d6d-49a8-9109-e23b7b07b85c",
   "metadata": {},
   "source": [
    "**14.write a function which provide us factorial of guevn number**"
   ]
  },
  {
   "cell_type": "code",
   "execution_count": null,
   "id": "1e60d0c4-ac66-4a16-89c6-cdd8e7d4d995",
   "metadata": {},
   "outputs": [],
   "source": [
    "def fact(num):\n",
    "    result=1\n",
    "    for i in range(1,num+1):\n",
    "        result*=i\n",
    "    print(result)  "
   ]
  },
  {
   "cell_type": "code",
   "execution_count": null,
   "id": "5d25fc14-cfa0-44ee-9ff7-d1d61f9a5907",
   "metadata": {},
   "outputs": [],
   "source": [
    "fact(5)"
   ]
  },
  {
   "cell_type": "code",
   "execution_count": 5,
   "id": "3cfdd9f6-1b52-4096-a299-cc390e7d6aa6",
   "metadata": {},
   "outputs": [
    {
     "name": "stdout",
     "output_type": "stream",
     "text": [
      "i am in outer function\n",
      "I am in inner function\n"
     ]
    }
   ],
   "source": [
    "def outer_func():\n",
    "    print(\"i am in outer function\")\n",
    "    def inner_func():\n",
    "        print(\"I am in inner function\")\n",
    "    inner_func()\n",
    "outer_func()\n",
    "\n",
    "\n",
    "# def outer \n",
    "# call outer # i am in outer fucntion\n",
    "# def inner fucn()\n",
    "# call kiya inner fucn "
   ]
  },
  {
   "cell_type": "code",
   "execution_count": null,
   "id": "f7d72e6c-9667-4e9f-80d0-cbc8828361e3",
   "metadata": {},
   "outputs": [],
   "source": []
  },
  {
   "cell_type": "code",
   "execution_count": null,
   "id": "15118d2c-0e3b-4057-ad16-0bec4516edfd",
   "metadata": {},
   "outputs": [],
   "source": [
    "def outer():\n",
    "    print(\"outer function\")\n",
    "    def inner():\n",
    "        print(\"inner function\") # agar isko call karna hai to pehle outer func ko store krao varible me fir us variable ko call karo\n",
    "    print(\"_______\")\n",
    "    return inner # if you want to call the inner function fir return it "
   ]
  },
  {
   "cell_type": "code",
   "execution_count": null,
   "id": "80a2358e-13a2-4aa9-90d9-029c1804837b",
   "metadata": {},
   "outputs": [],
   "source": [
    "outer()# calling only outer function"
   ]
  },
  {
   "cell_type": "code",
   "execution_count": null,
   "id": "a68bc221-ecc4-4785-a017-9588d74f441a",
   "metadata": {},
   "outputs": [],
   "source": [
    "x=outer()\n",
    "x()#now it will call you the inner function"
   ]
  },
  {
   "cell_type": "code",
   "execution_count": null,
   "id": "53c93135-be1f-443c-9e78-b8435beb328e",
   "metadata": {},
   "outputs": [],
   "source": []
  },
  {
   "cell_type": "code",
   "execution_count": null,
   "id": "6940c841-9c18-401f-8208-e4c8fb94f531",
   "metadata": {},
   "outputs": [],
   "source": []
  },
  {
   "cell_type": "markdown",
   "id": "c4961716-8101-40ea-a277-4f93f37ebb72",
   "metadata": {},
   "source": [
    "**15 Python code to convert string to list**"
   ]
  },
  {
   "cell_type": "code",
   "execution_count": null,
   "id": "de71506d-e2cf-4f29-8217-830993085fc6",
   "metadata": {},
   "outputs": [],
   "source": [
    "def Convert(string):\n",
    "    li = list(string.split(\" \"))\n",
    "    return li\n",
    "\n",
    "\n",
    "# Driver code\n",
    "str1 = \"Geeks for Geeks\"\n",
    "print(Convert(str1))"
   ]
  },
  {
   "cell_type": "markdown",
   "id": "ddb357c7-1398-4274-9462-359a363f05a3",
   "metadata": {},
   "source": [
    "***ARGS AND** ****KWARGS**"
   ]
  },
  {
   "cell_type": "code",
   "execution_count": 1,
   "id": "3730dcda-d840-43c3-904c-7ee5dc2ad735",
   "metadata": {},
   "outputs": [
    {
     "name": "stdout",
     "output_type": "stream",
     "text": [
      "Hello\n",
      "Welcome\n",
      "to\n",
      "GeeksforGeeks\n"
     ]
    }
   ],
   "source": [
    "def myFun(*args):#*args allows you to do is take in more arguments than the number of formal arguments\n",
    "    for arg in args:\n",
    "        print(arg)\n",
    "\n",
    "\n",
    "myFun('Hello', 'Welcome', 'to', 'GeeksforGeeks')\n"
   ]
  },
  {
   "cell_type": "code",
   "execution_count": 2,
   "id": "49a3f55a-dd6b-4df9-96d6-ac1471c7aa7e",
   "metadata": {},
   "outputs": [],
   "source": [
    "def allllll(*args1,**kwargs):\n",
    "    print(kwargs)\n",
    "    total1234=0\n",
    "    for item in kwargs.values():\n",
    "        total1234+=item\n",
    "    return sum(args1) + total1234\n",
    "\n"
   ]
  },
  {
   "cell_type": "code",
   "execution_count": 3,
   "id": "145fa8ef-7281-486d-9e72-cda2955aa68f",
   "metadata": {},
   "outputs": [
    {
     "name": "stdout",
     "output_type": "stream",
     "text": [
      "{'num1': 5, 'num2': 3}\n"
     ]
    },
    {
     "data": {
      "text/plain": [
       "14"
      ]
     },
     "execution_count": 3,
     "metadata": {},
     "output_type": "execute_result"
    }
   ],
   "source": [
    "allllll(1,2,3,num1=5,num2=3)"
   ]
  },
  {
   "cell_type": "code",
   "execution_count": null,
   "id": "6d58e76e-515b-410d-aef9-4aaac5e3d95d",
   "metadata": {},
   "outputs": [],
   "source": [
    "def print_details(**kwargs):\n",
    "    for key, value in kwargs.items():\n",
    "        print(f\"{key}: {value}\")\n",
    "\n",
    "print_details(name=\"Alice\", age=30, city=\"New York\")\n",
    "# Output:\n",
    "# name: Alice\n",
    "# age: 30\n",
    "# city: New York\n",
    "\n",
    "\n",
    "#When you don't know in advance how many keyword arguments will be passed to a function.\n",
    "#Example: A function that prints key-value pairs."
   ]
  },
  {
   "cell_type": "code",
   "execution_count": null,
   "id": "5c6f701c-48c8-4bc4-b4d1-96ab79980911",
   "metadata": {},
   "outputs": [],
   "source": [
    "def flexible_function(*args, **kwargs):\n",
    "    print(\"Positional arguments:\", args)\n",
    "    print(\"Keyword arguments:\", kwargs)\n",
    "\n",
    "flexible_function(1, 2, 3, a=4, b=5)\n",
    "# Output:\n",
    "# Positional arguments: (1, 2, 3)\n",
    "# Keyword arguments: {'a': 4, 'b': 5}\n",
    "\n",
    "\n",
    "\n",
    "#Allows handling both positional and keyword arguments.\n",
    "#Example: A function that takes both variable positional and keyword arguments."
   ]
  },
  {
   "cell_type": "code",
   "execution_count": 13,
   "id": "3bdf948b-ea1f-4c2c-89dd-276e24f6316b",
   "metadata": {},
   "outputs": [
    {
     "data": {
      "text/plain": [
       "40"
      ]
     },
     "execution_count": 13,
     "metadata": {},
     "output_type": "execute_result"
    }
   ],
   "source": [
    "def func(a=20,b=20): #default argument wo argument hote hai jinko tum uppaer hi fix kr dete ho define krte waqt\n",
    "    sum=a+b\n",
    "    return sum\n",
    "\n",
    "func() #isme ya to kuch na do to  20 + 20 ho jayega default parameter ki wajah se "
   ]
  },
  {
   "cell_type": "code",
   "execution_count": 14,
   "id": "a5f04e4e-fb33-4291-85a4-eb4b76dea655",
   "metadata": {},
   "outputs": [
    {
     "data": {
      "text/plain": [
       "119"
      ]
     },
     "execution_count": 14,
     "metadata": {},
     "output_type": "execute_result"
    }
   ],
   "source": [
    "func(a=30,b=89)# aur agar kuch value dena hai keyword argument ka istemal kro"
   ]
  },
  {
   "cell_type": "code",
   "execution_count": null,
   "id": "5dba8f64-e22d-47b9-9b79-09c6cfc7a410",
   "metadata": {},
   "outputs": [],
   "source": []
  }
 ],
 "metadata": {
  "kernelspec": {
   "display_name": "Python 3 (ipykernel)",
   "language": "python",
   "name": "python3"
  },
  "language_info": {
   "codemirror_mode": {
    "name": "ipython",
    "version": 3
   },
   "file_extension": ".py",
   "mimetype": "text/x-python",
   "name": "python",
   "nbconvert_exporter": "python",
   "pygments_lexer": "ipython3",
   "version": "3.11.5"
  }
 },
 "nbformat": 4,
 "nbformat_minor": 5
}
