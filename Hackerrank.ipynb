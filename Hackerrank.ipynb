{
 "cells": [
  {
   "cell_type": "markdown",
   "id": "f69ae7bf-3173-4258-b192-f2ff020d2ae8",
   "metadata": {},
   "source": [
    "**hackerrank**\n",
    "- string formatting\n",
    "- alphabet rangoli\n",
    "- capitalize\n",
    "- No idea\n",
    "- set discard\n",
    "- set mutation\n",
    "- "
   ]
  },
  {
   "cell_type": "raw",
   "id": "10e01990-fb78-4f6c-9cc2-7e421d8c0df1",
   "metadata": {},
   "source": [
    "1) An extra day is added to the calendar almost every four years as February 29, and the day is called a leap day. It corrects the calendar for the fact that our planet takes approximately 365.25 days to orbit the sun. A leap year contains a leap day.\n",
    "\n",
    "In the Gregorian calendar, three conditions are used to identify leap years:\n",
    "\n",
    "The year can be evenly divided by 4, is a leap year, unless:\n",
    "The year can be evenly divided by 100, it is NOT a leap year, unless:\n",
    "The year is also evenly divisible by 400. Then it is a leap year.\n",
    "This means that in the Gregorian calendar, the years 2000 and 2400 are leap years, while 1800, 1900, 2100, 2200, 2300 and 2500 are NOT leap years. Source"
   ]
  },
  {
   "cell_type": "code",
   "execution_count": null,
   "id": "759c7cd1-4d24-45fa-b124-9b190fafbe41",
   "metadata": {},
   "outputs": [],
   "source": [
    "def is_leap(year):\n",
    "    leap = False\n",
    "    if year % 4==0:\n",
    "        if year % 100==0:\n",
    "            if year % 400==0:\n",
    "                leap=True\n",
    "        else:\n",
    "             leap = True\n",
    "    \n",
    "    return leap"
   ]
  },
  {
   "cell_type": "code",
   "execution_count": null,
   "id": "15feb895-3476-414a-a323-6d818ec0eda9",
   "metadata": {},
   "outputs": [],
   "source": [
    "is_leap(2100)"
   ]
  },
  {
   "cell_type": "code",
   "execution_count": null,
   "id": "14193d05-2c10-43cf-bf6b-4546f8a7e016",
   "metadata": {},
   "outputs": [],
   "source": [
    "is_leap(1992)"
   ]
  },
  {
   "cell_type": "markdown",
   "id": "c3e1eb13-adbc-4795-ad2a-18b3eff2d785",
   "metadata": {},
   "source": [
    "**1.A) List of Leap Years:<br>\n",
    "Write a function that takes a start year and an end year, and returns a list of all leap years between those two years (inclusive).**"
   ]
  },
  {
   "cell_type": "code",
   "execution_count": null,
   "id": "adc0a9fd-79ad-4a66-b950-19b7686d6ebe",
   "metadata": {},
   "outputs": [],
   "source": [
    "def f1(start, end):\n",
    "    leap_years=[]\n",
    "    for i in range(start, end+1):\n",
    "            if i % 4 == 0 and (i % 100 != 0 or i % 400 == 0):\n",
    "                leap_years.append(i)\n",
    "    print(leap_years)"
   ]
  },
  {
   "cell_type": "code",
   "execution_count": null,
   "id": "29cc35ca-bec1-48c0-a2a5-aaff483d7ae1",
   "metadata": {},
   "outputs": [],
   "source": [
    "f1(1990,2024)"
   ]
  },
  {
   "cell_type": "code",
   "execution_count": null,
   "id": "e158e074-68f7-43f0-93de-ce2e7f126100",
   "metadata": {},
   "outputs": [],
   "source": []
  },
  {
   "cell_type": "code",
   "execution_count": null,
   "id": "dd1a428f-68b3-4521-9b95-3178cb5b2ad8",
   "metadata": {},
   "outputs": [],
   "source": [
    "\n",
    "        "
   ]
  },
  {
   "cell_type": "code",
   "execution_count": null,
   "id": "a11090ef-0830-49cd-b32e-a9d54ba95290",
   "metadata": {},
   "outputs": [],
   "source": []
  },
  {
   "cell_type": "raw",
   "id": "793d78c7-5c5e-4406-9b13-469252bd3a8c",
   "metadata": {},
   "source": [
    "3.a\n",
    "Write a list comprehension to generate all possible coordinates [x, y, z] where x, y, and z range from 0 to a given limit n, but the sum of the coordinates should be less than a given number m"
   ]
  },
  {
   "cell_type": "code",
   "execution_count": null,
   "id": "5d7a5fab-e93d-4723-aa67-97b3af04cf03",
   "metadata": {},
   "outputs": [],
   "source": [
    "m=10\n",
    "x = int(input())\n",
    "y = int(input())\n",
    "z = int(input())\n",
    "n = int(input())\n",
    "out=[[x,y,z] for x in range(0,n) for y in range(0,n) for z in range(0,n) if x+y+z > m]\n",
    "print(out)"
   ]
  },
  {
   "cell_type": "raw",
   "id": "f343dc36-606a-402f-a53c-0d4267a60928",
   "metadata": {},
   "source": [
    "3.2\n",
    "Given two integers a and b, generate a list of lists containing pairs [i, j] where i ranges from 0 to a and j ranges from 0 to b. Include only those pairs where both i and j are even numbers."
   ]
  },
  {
   "cell_type": "code",
   "execution_count": null,
   "id": "35edd77f-f8ed-419b-819c-bd9fcb8631b0",
   "metadata": {},
   "outputs": [],
   "source": [
    "a=int(input())\n",
    "b=int(input())\n",
    "out=[[i,j] for i in range(0,a+1) for j in range(0,b+1) if i % 2==0 and j % 2==0]\n",
    "print(out)"
   ]
  },
  {
   "cell_type": "raw",
   "id": "6137b761-8fa0-485c-97aa-fb71a0b1848d",
   "metadata": {},
   "source": [
    "3.3\n",
    "Given a 2D matrix, use list comprehension to transpose the matrix. \n",
    "That is, convert the rows of the matrix into columns and vice versa."
   ]
  },
  {
   "cell_type": "code",
   "execution_count": null,
   "id": "48df5c7f-260f-4561-898d-b9eaf06416eb",
   "metadata": {},
   "outputs": [],
   "source": [
    "import pandas as pd\n",
    "matrix = [\n",
    "    [1, 2, 3],\n",
    "    [4, 5, 6],\n",
    "    [7, 8, 9]\n",
    "]\n",
    "transposed=list(map(list,zip(*matrix)))\n",
    "print(transposed)\n",
    "\n",
    "\n",
    "\"\"\"\"\n",
    "step1 -- When you use *matrix, it effectively unpacks the rows of the matrix like this:\n",
    "               zip([1, 2, 3], [4, 5, 6], [7, 8, 9])\n",
    "\n",
    "               \n",
    "step 2---The zip function then aggregates elements from each row:\n",
    "First elements: (1, 4, 7)\n",
    "Second elements: (2, 5, 8)\n",
    "Third elements: (3, 6, 9)\n",
    "So, zip(*matrix) results in:\n",
    "[(1, 4, 7), (2, 5, 8), (3, 6, 9)]\n",
    "\n",
    "\n",
    "\n",
    "step 3--- map(list, zip(*matrix))\n",
    "The map function applies a given function to all items in an input list. In this case, map(list, ...) converts each tuple generated by zip(*matrix) into a list.\n",
    "\n",
    "\n",
    "\n",
    "step 4-- So, map(list, [(1, 4, 7), (2, 5, 8), (3, 6, 9)]) results in:\n",
    "            [[1, 4, 7], [2, 5, 8], [3, 6, 9]]\n",
    "\n",
    "\n",
    "            \n",
    "step --5 list(map(list, zip(*matrix)))\n",
    "Finally, the list function converts the map object to a list. This step is necessary because map returns a map object, which is an iterator."
   ]
  },
  {
   "cell_type": "markdown",
   "id": "cf469fed-6e55-4b0f-a605-c9fb6dc86aec",
   "metadata": {},
   "source": [
    "**3.4) Filtering Divisors**<br>\n",
    "Write a list comprehension that generates a list of numbers from 1 to n that are divisible by 3 but not by 5."
   ]
  },
  {
   "cell_type": "code",
   "execution_count": null,
   "id": "67de954c-448e-4b91-87b9-1f63c4e7ff28",
   "metadata": {},
   "outputs": [],
   "source": [
    "n=int(input())\n",
    "out1=[i for i in range(1,n+1) if i % 3==0 and i % 5 !=0]\n",
    "print(out1)"
   ]
  },
  {
   "cell_type": "markdown",
   "id": "e0c8acfd-042c-4742-a793-263a14b45794",
   "metadata": {},
   "source": [
    "**3.5) Given a list of strings, use list comprehension to generate a list of their lengths.**"
   ]
  },
  {
   "cell_type": "code",
   "execution_count": null,
   "id": "55895dce-e919-4e5a-87ef-de568e57cdc7",
   "metadata": {},
   "outputs": [],
   "source": [
    "strings = ['nadeem', 'sarwar', 'nad']\n",
    "out = [len(string) for string in strings]\n",
    "print(out)"
   ]
  },
  {
   "cell_type": "raw",
   "id": "9de48b3e-75ce-4b2f-83d0-daecc6a94699",
   "metadata": {},
   "source": [
    "given the participants' score sheet for your University Sports Day, you are required to find the runner-up score. You are given  scores. Store them in a list and find the score of the runner-up\n",
    "\n",
    "input Format\r",
    "\r\n",
    "The first line containns . The second line contains an arra  yA[]of  n integers each separated by a spc\n",
    "*sample inpt\n",
    "\r\n",
    "2 3 6 5 5\n",
    "\n",
    "outp\n",
    "5  "
   ]
  },
  {
   "cell_type": "code",
   "execution_count": null,
   "id": "5f4355dd-d39d-45a7-8fe7-8e7b250bc1be",
   "metadata": {},
   "outputs": [],
   "source": [
    "n = int(input())\n",
    "arr = map(int, input().split())\n",
    "q=sorted(list(set(arr)))\n",
    "r=q[-2]\n",
    "print(r)"
   ]
  },
  {
   "cell_type": "raw",
   "id": "fe77e841-38be-4c48-9738-66518db43aeb",
   "metadata": {},
   "source": [
    "Given the names and grades for each student in a class of N students, store them in a nested list and print the name(s) of any student(s) having the second lowest grade.\n",
    "\n",
    "Note: If there are multiple students with the second lowest grade, order their names alphabetically and print each name on a new line.\n",
    "\n",
    "Example = [['chi',20],['beta',50.0],['alpha',50.0]]\n",
    "\n",
    "The ordered list of scores is [20,50.0], so the second lowest score is [50.0]. There are two students with that score:['beta','alpha'] . Ordered alphabetically, the names are printed as\n",
    "\n",
    "alpha\n",
    "beta\n",
    "\n",
    "\n",
    "sample input\n",
    "5\n",
    "Harry\n",
    "37.21\n",
    "Berry\n",
    "37.21\n",
    "Tina\n",
    "37.2\n",
    "Akriti\n",
    "41\n",
    "Harsh\n",
    "39\n",
    "\n",
    "output\n",
    "Berry\n",
    "Harry\n"
   ]
  },
  {
   "cell_type": "code",
   "execution_count": null,
   "id": "d6e3a2c5-a631-4f0b-b96d-011ccb4b94d9",
   "metadata": {},
   "outputs": [],
   "source": [
    "all_name=[]\n",
    "all_score=[]\n",
    "score_name=[]\n",
    "for _ in range(int(input())):# jitti input doge utti baar yeh chalega\n",
    "    name = input()\n",
    "    score = float(input())\n",
    "    all_name.append(name)\n",
    "    all_score.append(score)\n",
    "    score_name.append([name,score])\n",
    "\n",
    "sorted_score=sorted(list(set(all_score)))\n",
    "second_low=sorted_score[1]\n",
    "out=[i[0] for i in score_name if i[1] == second_low]\n",
    "    #include this) in out or not if the condition satisfy \n",
    "    # The comprehension iterates through each element i in score_name and includes i[0] in out only if i[1] is equal to second_low.\n",
    "out.sort()\n",
    "for i in out:\n",
    "    print(i)"
   ]
  },
  {
   "cell_type": "code",
   "execution_count": null,
   "id": "450f502c-7a5e-4cf7-b115-8fed733f5a15",
   "metadata": {},
   "outputs": [],
   "source": [
    "n = int(input())\n",
    "student_marks = {}\n",
    "for _ in range(n):\n",
    "    name, *line = input().split()\n",
    "    scores = list(map(float, line))\n",
    "    student_marks[name] = scores\n",
    "query_name = input()"
   ]
  },
  {
   "cell_type": "raw",
   "id": "aba113dd-b057-4f60-8310-e5c1e7c0ba84",
   "metadata": {},
   "source": [
    "The provided code stub will read in a dictionary containing key/value pairs of name:[marks] for a list of students. Print the average of the marks \n",
    "array for the student name provided, showing 2 places after the decimal.\n",
    "\n",
    "sample input\n",
    "3\n",
    "Krishna 67 68 69\n",
    "Arjun 70 98 63\n",
    "Malika 52 56 60\n",
    "Malika\n",
    "\n",
    "output\n",
    "56.00"
   ]
  },
  {
   "cell_type": "code",
   "execution_count": 2,
   "id": "a4f6434a-2827-4a87-9116-f2907f834385",
   "metadata": {},
   "outputs": [
    {
     "name": "stdin",
     "output_type": "stream",
     "text": [
      " 3\n",
      " nadeem 12 13 15\n",
      " sarwar 12 45 36\n",
      " ali 13 43 54\n",
      " sarwar\n"
     ]
    },
    {
     "name": "stdout",
     "output_type": "stream",
     "text": [
      "31.00\n"
     ]
    }
   ],
   "source": [
    "n = int(input())\n",
    "student_marks = {}\n",
    "for _ in range(n):\n",
    "    name, *line = input().split()\n",
    "    scores = list(map(float, line))\n",
    "    student_marks[name] = scores\n",
    "    \n",
    "query_name = input()\n",
    "a=sum(student_marks[query_name])/(len(student_marks[query_name]))\n",
    "q=format(a,\".2f\")\n",
    "print(q)"
   ]
  },
  {
   "cell_type": "code",
   "execution_count": null,
   "id": "e48792e6-ecc1-41c2-b37b-c6aed6974b43",
   "metadata": {},
   "outputs": [],
   "source": [
    "student_marks = {}  # Empty dictionary\n",
    "\n",
    "name = \"Alice\"  # Student name\n",
    "scores = [80.0, 95.0, 78.0]  # List of scores (converted to floats)\n",
    "\n",
    "student_marks[name] = scores  # Add \"Alice\" as key, scores as value\n",
    "\n",
    "print(student_marks)  # Output: {'Alice': [80.0, 95.0, 78.0]}"
   ]
  },
  {
   "cell_type": "raw",
   "id": "ac0a489b-b5ce-4352-ab78-406a54305b1d",
   "metadata": {},
   "source": [
    "Consider a list (list = []). You can perform the following commands:\n",
    "\n",
    "insert i e: Insert integer  at position .\n",
    "print: Print the list.\n",
    "remove e: Delete the first occurrence of integer .\n",
    "append e: Insert integer  at the end of the list.\n",
    "sort: Sort the list.\n",
    "pop: Pop the last element from the list.\n",
    "reverse: Reverse the list.\n",
    "\n",
    "\n",
    "Sample Input 0\n",
    "\n",
    "12\n",
    "insert 0 5\n",
    "insert 1 10\n",
    "insert 0 6\n",
    "print\n",
    "remove 6\n",
    "append 9\n",
    "append 1\n",
    "sort\n",
    "print\n",
    "pop\n",
    "reverse\n",
    "print\n",
    "\n",
    "\n",
    "[6, 5, 10]\n",
    "[1, 5, 9, 10]\n",
    "[9, 5, 1]"
   ]
  },
  {
   "cell_type": "code",
   "execution_count": null,
   "id": "9625b7da-de35-4afe-bf6a-963c2d3107d2",
   "metadata": {},
   "outputs": [],
   "source": [
    "N = int(input())\n",
    "a=[]\n",
    "for iteration in range(N):\n",
    "    method, *line=input().split()\n",
    "    num=list(map(int,line))\n",
    "    if method == \"insert\":\n",
    "        a.insert(num[0],num[1])\n",
    "    elif method==\"print\":\n",
    "        print(a)\n",
    "    elif method==\"remove\":\n",
    "        a.remove(num[0])\n",
    "    elif method==\"append\":\n",
    "        a.append(num[0])\n",
    "    elif method== 'sort':\n",
    "        a.sort()\n",
    "    elif method==\"pop\":\n",
    "        a.pop()\n",
    "    elif method==\"reverse\":\n",
    "        a.reverse()"
   ]
  },
  {
   "cell_type": "markdown",
   "id": "8531dc6f-0f19-4eb7-bae9-2c66b8b32043",
   "metadata": {},
   "source": [
    "**Given an integer,n, and n space-separated integers as input, create a tuple,t, of those n integers. Then compute and print the result of hash(t)**\n",
    "<br>\n",
    "**Sample Input**\n",
    "<br>\n",
    "2<br>\n",
    "12<br>\n",
    "**sample output**\n",
    "<br>\n",
    "3713081631934410656410656"
   ]
  },
  {
   "cell_type": "code",
   "execution_count": null,
   "id": "1d96f5da-14dd-4bc4-969b-e975be93a093",
   "metadata": {},
   "outputs": [],
   "source": [
    "n = int(input())\n",
    "integer_list = map(int, input().split())\n",
    "t = tuple(integer_list)\n",
    "print(hash(t))"
   ]
  },
  {
   "cell_type": "markdown",
   "id": "f61f2b97-8500-42fc-a28f-d64e40e5a4d9",
   "metadata": {},
   "source": [
    "```python\r\n",
    "a = \"this is a string\"\r\n",
    "a = a.split(\" \") # a is converted to a list of strings. \r\n",
    "print(a)\r\n",
    "# Output: ['this', 'is', 'a', 'string']\r\n",
    "\r\n",
    "a = \"-\".join(a)\r\n",
    "print(a)\r\n",
    "# Output: this-is-a-string\r\n"
   ]
  },
  {
   "cell_type": "code",
   "execution_count": null,
   "id": "081a111c-ab3d-4f52-9f90-d8b5f38b8fc8",
   "metadata": {},
   "outputs": [],
   "source": [
    "def split_and_join(line):\n",
    "    # write your code here\n",
    "    if line:\n",
    "        a=line.split( )\n",
    "        b=\"-\".join(a)\n",
    "        return b\n",
    "        \n",
    "\n",
    "if __name__ == '__main__':\n",
    "    line = input()\n",
    "    result = split_and_join(line)\n",
    "    print(result)"
   ]
  },
  {
   "cell_type": "markdown",
   "id": "87c5fa7e-f6dd-466c-9021-0ca4d3f0c62e",
   "metadata": {},
   "source": [
    "**You are given a string and your task is to swap cases. In other words, convert all lowercase letters to uppercase letters and vice versa.**<br>\n",
    "**$Www.HackerRank.com → wWW.hACKERrANK.COM$**<br>\n",
    "**Pythonist 2 → pYTHONIST 2**"
   ]
  },
  {
   "cell_type": "code",
   "execution_count": null,
   "id": "1c34aa86-a527-4258-b727-8bec1749b956",
   "metadata": {},
   "outputs": [],
   "source": [
    "def swap_case(s):\n",
    "    for char in s:\n",
    "        if char.isupper():\n",
    "            a=char.casefold()\n",
    "            print(a,end='')      \n",
    "    if True:\n",
    "        for char2 in s:\n",
    "            if char2.islower():\n",
    "                b=char2.upper()\n",
    "                print(b,end='')\n",
    "    else:\n",
    "        return s"
   ]
  },
  {
   "cell_type": "markdown",
   "id": "3f6be6aa-2804-4301-b9c5-384fe19daa33",
   "metadata": {},
   "source": [
    "**You are given a string and your task is to swap cases. In other words, convert all lowercase letters to uppercase letters and vice versa.**"
   ]
  },
  {
   "cell_type": "code",
   "execution_count": 24,
   "id": "4ae3f7da-efc7-4853-bdb4-ab5c482de2c5",
   "metadata": {},
   "outputs": [
    {
     "name": "stdout",
     "output_type": "stream",
     "text": [
      "hACKERrANK.COM PRESENTS \"pYTHONIST 2\".\n"
     ]
    }
   ],
   "source": [
    "a=('HackerRank.com presents \"Pythonist 2\".')\n",
    "output=''\n",
    "for word in a:\n",
    "    for char in word:\n",
    "        if char.isupper():\n",
    "           output+=char.lower()\n",
    "        elif char.islower():\n",
    "            output+=char.upper()\n",
    "        else:\n",
    "            output+=char\n",
    "print(output)\n",
    "            "
   ]
  },
  {
   "cell_type": "code",
   "execution_count": 27,
   "id": "bf474d1c-4958-4fcd-b156-808f7d293b80",
   "metadata": {},
   "outputs": [],
   "source": [
    "hACKERrANK.COM PRESENTS \"pYTHONIST 2\"."
   ]
  },
  {
   "cell_type": "markdown",
   "id": "93be15a3-ee4d-43c0-a5bb-31235c3839f5",
   "metadata": {},
   "source": [
    "**You are given the firstname and lastname of a person on two different lines. Your task is to read them and print the following:**<br>\n",
    "**Hello firstname lastname! You just delved into python.**<br>"
   ]
  },
  {
   "cell_type": "code",
   "execution_count": 1,
   "id": "ac324f32-3262-4abf-9e19-f9fbe4eac9cd",
   "metadata": {},
   "outputs": [
    {
     "name": "stdin",
     "output_type": "stream",
     "text": [
      " ross\n",
      " taylor\n"
     ]
    },
    {
     "name": "stdout",
     "output_type": "stream",
     "text": [
      "Hello ross taylor! You just delved into python.\n"
     ]
    }
   ],
   "source": [
    "def print_full_name(first, last):\n",
    "    print(f'Hello {first} {last}! You just delved into python.')\n",
    "if __name__ == '__main__':\n",
    "    first_name = input()\n",
    "    last_name = input()\n",
    "    print_full_name(first_name, last_name)"
   ]
  },
  {
   "cell_type": "code",
   "execution_count": 47,
   "id": "9ba86a80-00a0-49a1-a4f8-eea3fc09aa52",
   "metadata": {},
   "outputs": [
    {
     "name": "stdout",
     "output_type": "stream",
     "text": [
      "The Quick Brown Fox Jumps Over The Lazy Dog\n"
     ]
    }
   ],
   "source": [
    "s='hai Hello world nadeem'\n",
    "s=list(s)\n",
    "for i in range(len(s)):\n",
    "    if i==0 or s[i-1]==' ':\n",
    "        if \"a\" <= s[i] <= \"z\":\n",
    "            s[i]=chr(ord(s[i])-32)\n",
    "result=''\n",
    "for i in s:\n",
    "    result+=i\n",
    "print(result)"
   ]
  },
  {
   "cell_type": "code",
   "execution_count": null,
   "id": "d36a3a92-f497-4f7f-aaf5-c87d1aaa3398",
   "metadata": {},
   "outputs": [],
   "source": []
  },
  {
   "cell_type": "code",
   "execution_count": null,
   "id": "f24f2686-83ae-4b74-b98f-e89a28d1f791",
   "metadata": {},
   "outputs": [],
   "source": []
  },
  {
   "cell_type": "code",
   "execution_count": null,
   "id": "c8259209-dcfe-44f9-82ef-7ce9d0cf15fb",
   "metadata": {},
   "outputs": [],
   "source": []
  },
  {
   "cell_type": "code",
   "execution_count": null,
   "id": "041c793c-0634-472b-b569-4be24ac25956",
   "metadata": {},
   "outputs": [],
   "source": []
  },
  {
   "cell_type": "code",
   "execution_count": 12,
   "id": "21f7277b-415d-4fe4-9d2b-e13c406c6570",
   "metadata": {},
   "outputs": [
    {
     "name": "stdout",
     "output_type": "stream",
     "text": [
      "['M', 'y', ' ', 'N', 'a', 'm', 'e', ' ', 'I', 's', ' ', 'H', 'y', 'd', 'e', 'r', 'a', 'b', 'a', 'd']\n"
     ]
    }
   ],
   "source": [
    "#title\n",
    "\n",
    "\n",
    "str1=\"My name Is Hyderabad\"\n",
    "str1=list(str1)\n",
    "for i in range(len(str1)):\n",
    "    if i==0 or str1[i-1] == ' ':\n",
    "        if 'a'<= str1[i] <=\"z\":\n",
    "            str1[i]=chr(ord(str1[i]) - 32)\n",
    "\n",
    "result=''\n",
    "for i in str1:\n",
    "    result+=i\n",
    "\n",
    "print(result)"
   ]
  },
  {
   "cell_type": "code",
   "execution_count": 22,
   "id": "a2f01b37-772a-4267-8e56-62ac95ea8982",
   "metadata": {},
   "outputs": [
    {
     "name": "stdout",
     "output_type": "stream",
     "text": [
      "Nadeem sarwar\n"
     ]
    }
   ],
   "source": [
    "# capitlaize\n",
    "s=\"nadeem sarwar\"\n",
    "s=list(s)\n",
    "first_letter=s[0]\n",
    "first_letter=ord(first_letter)\n",
    "if first_letter < 112:\n",
    "    first_letter=int(first_letter) - 32\n",
    "    s[0]=chr(first_letter)\n",
    "\n",
    "\n",
    "result=''\n",
    "for i in s:\n",
    "    result+=i\n",
    "print(result)  "
   ]
  },
  {
   "cell_type": "code",
   "execution_count": null,
   "id": "bedf194f-6ff2-4981-855e-ff41bb3ea67a",
   "metadata": {},
   "outputs": [],
   "source": []
  },
  {
   "cell_type": "code",
   "execution_count": 17,
   "id": "984d4f5e-da22-4f4d-891e-d25f1f4df5ac",
   "metadata": {},
   "outputs": [
    {
     "data": {
      "text/plain": [
       "(65, 90)"
      ]
     },
     "execution_count": 17,
     "metadata": {},
     "output_type": "execute_result"
    }
   ],
   "source": [
    "ord(\"A\"),ord(\"Z\")"
   ]
  },
  {
   "cell_type": "code",
   "execution_count": 18,
   "id": "25ac424a-cfd6-4aef-b8e2-b48284403e51",
   "metadata": {},
   "outputs": [
    {
     "data": {
      "text/plain": [
       "(97, 122)"
      ]
     },
     "execution_count": 18,
     "metadata": {},
     "output_type": "execute_result"
    }
   ],
   "source": [
    "ord(\"a\"),ord(\"z\")"
   ]
  },
  {
   "cell_type": "code",
   "execution_count": 21,
   "id": "54277e0f-2083-49f6-a643-75af19cbe74d",
   "metadata": {},
   "outputs": [
    {
     "data": {
      "text/plain": [
       "'N'"
      ]
     },
     "execution_count": 21,
     "metadata": {},
     "output_type": "execute_result"
    }
   ],
   "source": [
    "chr(78)"
   ]
  },
  {
   "cell_type": "code",
   "execution_count": null,
   "id": "db9271b4-8167-4591-b913-484b61436184",
   "metadata": {},
   "outputs": [],
   "source": [
    "Write a program that accepts four words from the user in a single line and prints them in reverse order.\n",
    "#use  split()\n",
    "Input : Air Water Earth Fire\n",
    "Output : Fire Earth Water Air"
   ]
  },
  {
   "cell_type": "code",
   "execution_count": null,
   "id": "6b04919b-c2cf-4b6f-8db0-7278f4df9962",
   "metadata": {},
   "outputs": [],
   "source": [
    "user_input=input(' ')\n",
    "res=''\n",
    "for i in user_input.split(' '):\n",
    "    res=i+ res\n",
    "    \n",
    "print(res)"
   ]
  },
  {
   "cell_type": "code",
   "execution_count": null,
   "id": "73a35136-99e0-494b-9c7a-1b3e193cf159",
   "metadata": {},
   "outputs": [],
   "source": [
    "'nadeem' in \"#\"  # nadeem is avaible in '#'\n",
    "'#' in 'nadeem'  # is # available in 'nadeem'\n",
    "'nad##m' in \"#\"  # is nad##m is available in '#'\n",
    "'#' in 'nad##m'  # is # availble in nad##m\n"
   ]
  },
  {
   "cell_type": "code",
   "execution_count": null,
   "id": "861db278-4026-45dc-a4b4-3fcf007962d4",
   "metadata": {},
   "outputs": [],
   "source": [
    "str1='hello in learning'\n",
    "words=str1.split()\n",
    "new_words=[]\n",
    "for i in words:\n",
    "    a=i.capitalize()\n",
    "    new_words.append(a)\n",
    "    \n",
    "\n",
    "new_words\n",
    "\n",
    "' '.join(new_words)"
   ]
  },
  {
   "cell_type": "markdown",
   "id": "2286f301-c500-45cc-a338-81be4ecbf3cc",
   "metadata": {},
   "source": [
    "**split-join**\n",
    "- split will apply for string , to divide the words or characters\n",
    "- when split the elemnts will be stored in a list format \n",
    "- join is used to combine the elements\n",
    "- **split-String**\n",
    "- **join-list**"
   ]
  },
  {
   "cell_type": "code",
   "execution_count": 2,
   "id": "2fc1ac38-a5c2-471c-864e-f4d646d4fe3d",
   "metadata": {},
   "outputs": [
    {
     "name": "stdin",
     "output_type": "stream",
     "text": [
      "postion 5\n",
      "character k\n"
     ]
    },
    {
     "name": "stdout",
     "output_type": "stream",
     "text": [
      "abrackdabra\n"
     ]
    }
   ],
   "source": [
    "str='abracadabra'\n",
    "position=int(input('postion'))\n",
    "a=str[0:position]\n",
    "b=str[position+1:]\n",
    "character=input('character')\n",
    "print(a+character+b)"
   ]
  },
  {
   "cell_type": "code",
   "execution_count": 35,
   "id": "cf05e173-32a4-4efb-b6a4-ae9b3c862f2d",
   "metadata": {},
   "outputs": [],
   "source": [
    "def count_substring(string, sub_string):\n",
    "    count=0\n",
    "    \n",
    "    end=len(sub_string)\n",
    "    for i in range(len(string)):\n",
    "        if string[i:end+i]== sub_string :\n",
    "            count+=1\n",
    "    return (count)"
   ]
  },
  {
   "cell_type": "code",
   "execution_count": 36,
   "id": "fbfa65b6-510e-457f-a2c3-300fd7ed18be",
   "metadata": {},
   "outputs": [
    {
     "data": {
      "text/plain": [
       "2"
      ]
     },
     "execution_count": 36,
     "metadata": {},
     "output_type": "execute_result"
    }
   ],
   "source": [
    "count_substring('ABCDCDC','CDC')"
   ]
  },
  {
   "cell_type": "code",
   "execution_count": 22,
   "id": "926b4171-3238-4aed-b494-9ce5e10616ab",
   "metadata": {},
   "outputs": [
    {
     "name": "stdin",
     "output_type": "stream",
     "text": [
      " qA2\n"
     ]
    },
    {
     "name": "stdout",
     "output_type": "stream",
     "text": [
      "True\n",
      "True\n",
      "True\n",
      "True\n",
      "True\n"
     ]
    }
   ],
   "source": [
    "s=input()\n",
    "for i in s:\n",
    "    if i.isalnum():\n",
    "        print(\"True\")\n",
    "        break\n",
    "else:\n",
    "    print(\"False\")\n",
    "        \n",
    "\n",
    "for i in s:\n",
    "    if i.isalpha():\n",
    "        print(\"True\")\n",
    "        break\n",
    "else:\n",
    "    print(\"False\")\n",
    "        \n",
    "\n",
    "\n",
    "for i in s:\n",
    "    if i.isdigit():\n",
    "        print(\"True\")\n",
    "        break\n",
    "else:\n",
    "    print(\"False\")\n",
    "        \n",
    "        \n",
    "\n",
    "for i in s:\n",
    "    if i.islower():\n",
    "        print(\"True\")\n",
    "        break\n",
    "else:\n",
    "    print(\"False\")\n",
    "        \n",
    "        \n",
    "for i in s:\n",
    "    if i.isupper():\n",
    "        print(\"True\")\n",
    "        break\n",
    "else:\n",
    "    print(\"False\")\n",
    "        \n",
    "\n",
    "\n",
    "\n",
    "#or\n",
    "\n",
    "s=input()\n",
    "is_alnum=False\n",
    "for i in s:\n",
    "    if i.isalnum():\n",
    "        is_alnum=True\n",
    "        break\n",
    "print(is_alnum)\n",
    "\n",
    "is_alpha=False\n",
    "for i in s:\n",
    "    if i.isalpha():\n",
    "        is_alpha=True\n",
    "        break\n",
    "        \n",
    "print(is_alpha)\n",
    "\n",
    "\n",
    "is_digit=False\n",
    "for i in s:\n",
    "    if i.isdigit():\n",
    "        is_digit=True\n",
    "        break\n",
    "        \n",
    "print(is_digit)\n",
    "\n",
    "is_lower=False\n",
    "for i in s:\n",
    "    if i.islower():\n",
    "        is_lower=True\n",
    "        break\n",
    "print(is_lower)\n",
    "\n",
    "is_upper=False\n",
    "for i in s:\n",
    "    if i.isupper():\n",
    "        is_upper=True\n",
    "        break\n",
    "print(is_upper)\n",
    "\n",
    "\n",
    "#or\n",
    "\n",
    "if __name__ == '__main__':\n",
    "    s = input()\n",
    "    \n",
    "    # Check for alphanumeric characters\n",
    "    has_alnum = any(char.isalnum() for char in s)\n",
    "    print(has_alnum)\n",
    "    \n",
    "    # Check for alphabetical characters\n",
    "    has_alpha = any(char.isalpha() for char in s)\n",
    "    print(has_alpha)\n",
    "    \n",
    "    # Check for digits\n",
    "    has_digit = any(char.isdigit() for char in s)\n",
    "    print(has_digit)\n",
    "    \n",
    "    # Check for lowercase characters\n",
    "    has_lower = any(char.islower() for char in s)\n",
    "    print(has_lower)\n",
    "    \n",
    "    # Check for uppercase characters\n",
    "    has_upper = any(char.isupper() for char in s)\n",
    "    print(has_upper)\n"
   ]
  },
  {
   "cell_type": "code",
   "execution_count": 33,
   "id": "eb722647-d032-466f-9d14-9d1c47e6aa06",
   "metadata": {},
   "outputs": [
    {
     "name": "stdout",
     "output_type": "stream",
     "text": [
      "ABCD\n",
      "EFGH\n",
      "IJKL\n",
      "IMNO\n",
      "QRST\n",
      "UVWX\n",
      "YZ\n"
     ]
    }
   ],
   "source": [
    "import textwrap\n",
    "str='ABCDEFGHIJKLIMNOQRSTUVWXYZ'\n",
    "words=textwrap.TextWrapper(width=4)\n",
    "word_list = words.wrap(text=str) \n",
    "for i in word_list:\n",
    "    print(i)"
   ]
  },
  {
   "cell_type": "code",
   "execution_count": 24,
   "id": "7af207e5-5ca4-43d0-98ae-a4dca5da0306",
   "metadata": {},
   "outputs": [],
   "source": [
    "import textwrap\n",
    "\n",
    "def wrap(string, max_width):\n",
    "    return '\\n'.join(textwrap.wrap(string, width=max_width))"
   ]
  },
  {
   "cell_type": "code",
   "execution_count": 25,
   "id": "b5d8e026-f86c-4097-8f97-8e279b22058f",
   "metadata": {},
   "outputs": [
    {
     "data": {
      "text/plain": [
       "['ABCD', 'EFGH', 'IJKL', 'IMNO', 'QRST', 'UVWX', 'YZ']"
      ]
     },
     "execution_count": 25,
     "metadata": {},
     "output_type": "execute_result"
    }
   ],
   "source": [
    "wrap('ABCDEFGHIJKLIMNOQRSTUVWXYZ',4)"
   ]
  },
  {
   "cell_type": "code",
   "execution_count": 17,
   "id": "b322ba25-2f16-4e74-812b-d71151570e36",
   "metadata": {},
   "outputs": [],
   "source": [
    "def swap_case(s):\n",
    "   a=''\n",
    "   for i in s:\n",
    "       if i.isupper():\n",
    "           i=i.lower()\n",
    "           a+=i\n",
    "        \n",
    "       elif i.islower():\n",
    "            i=i.upper()\n",
    "            a+=i\n",
    "       else:\n",
    "            a+=i\n",
    "   print(a)"
   ]
  },
  {
   "cell_type": "code",
   "execution_count": 18,
   "id": "8f85b56f-935f-4d0a-acba-24b9cde7a2b7",
   "metadata": {},
   "outputs": [
    {
     "name": "stdout",
     "output_type": "stream",
     "text": [
      "nADEEM\n"
     ]
    }
   ],
   "source": [
    "swap_case(\"Nadeem\")"
   ]
  },
  {
   "cell_type": "code",
   "execution_count": 1,
   "id": "b0611415-6180-497b-85d9-d288a4cbcb14",
   "metadata": {},
   "outputs": [
    {
     "name": "stdout",
     "output_type": "stream",
     "text": [
      "ABCD\n",
      "EFGH\n",
      "IJKL\n",
      "MNOP\n",
      "QRST\n",
      "UVWX\n",
      "YZ\n"
     ]
    }
   ],
   "source": [
    "#textwrap without using\n",
    "s=\"ABCDEFGHIJKLMNOPQRSTUVWXYZ\"\n",
    "n=4\n",
    "for i in range(0,len(s),n):\n",
    "    print(s[i:n+i])"
   ]
  },
  {
   "cell_type": "code",
   "execution_count": 8,
   "id": "3ab330c1-d2d9-44d7-9fa6-6aa40696178a",
   "metadata": {},
   "outputs": [
    {
     "name": "stdin",
     "output_type": "stream",
     "text": [
      " 5\n"
     ]
    },
    {
     "name": "stdout",
     "output_type": "stream",
     "text": [
      "    H    \n",
      "   HHH   \n",
      "  HHHHH  \n",
      " HHHHHHH \n",
      "HHHHHHHHH\n",
      "  HHHHH               HHHHH             \n",
      "  HHHHH               HHHHH             \n",
      "  HHHHH               HHHHH             \n",
      "  HHHHH               HHHHH             \n",
      "  HHHHH               HHHHH             \n",
      "  HHHHH               HHHHH             \n",
      "  HHHHHHHHHHHHHHHHHHHHHHHHH   \n",
      "  HHHHHHHHHHHHHHHHHHHHHHHHH   \n",
      "  HHHHHHHHHHHHHHHHHHHHHHHHH   \n",
      "  HHHHH               HHHHH             \n",
      "  HHHHH               HHHHH             \n",
      "  HHHHH               HHHHH             \n",
      "  HHHHH               HHHHH             \n",
      "  HHHHH               HHHHH             \n",
      "  HHHHH               HHHHH             \n",
      "                    HHHHHHHHH \n",
      "                     HHHHHHH  \n",
      "                      HHHHH   \n",
      "                       HHH    \n",
      "                        H     \n"
     ]
    }
   ],
   "source": [
    "thickness = int(input()) #This must be an odd number\n",
    "c = 'H'\n",
    "\n",
    "#Top Cone\n",
    "for i in range(thickness):\n",
    "    print((c*i).rjust(thickness-1)+c+(c*i).ljust(thickness-1))\n",
    "\n",
    "#Top Pillars\n",
    "for i in range(thickness+1):\n",
    "    print((c*thickness).center(thickness*2)+(c*thickness).center(thickness*6))\n",
    "\n",
    "for i in range((thickness+1)//2):\n",
    "    print((c*thickness*5).center(thickness*6))    \n",
    "\n",
    "for i in range(thickness+1):\n",
    "    print((c*thickness).center(thickness*2)+(c*thickness).center(thickness*6))\n",
    "\n",
    "#Bottom Cone\n",
    "for i in range(thickness):\n",
    "    print(((c*(thickness-i-1)).rjust(thickness)+c+(c*(thickness-i-1)).ljust(thickness)).rjust(thickness*6))"
   ]
  },
  {
   "cell_type": "code",
   "execution_count": null,
   "id": "d862532b-6a26-48a8-8301-f2a58c2ee23c",
   "metadata": {},
   "outputs": [],
   "source": []
  },
  {
   "cell_type": "code",
   "execution_count": null,
   "id": "11d6b26c-f859-4595-89ba-eb94ab3d4f62",
   "metadata": {},
   "outputs": [],
   "source": [
    "1 w 2 r 3g"
   ]
  },
  {
   "cell_type": "code",
   "execution_count": 38,
   "id": "61aa1210-456a-4d58-8a5a-97e6128eb315",
   "metadata": {},
   "outputs": [
    {
     "name": "stdout",
     "output_type": "stream",
     "text": [
      "1 W 2 R 3g\n"
     ]
    }
   ],
   "source": [
    "s1='1 w 2 r 3g'\n",
    "for name in s1.split():\n",
    "        s1=s1.replace(name,name.capitalize())\n",
    "print(s1)\n",
    "        "
   ]
  },
  {
   "cell_type": "code",
   "execution_count": 58,
   "id": "b074d031-6e7a-48b8-8900-517844cf9efb",
   "metadata": {},
   "outputs": [
    {
     "name": "stdin",
     "output_type": "stream",
     "text": [
      " 0 1 2 3 4 5 6 7 8 9 10 11 12 13 14 15 16 17 18 19\n"
     ]
    },
    {
     "name": "stdout",
     "output_type": "stream",
     "text": [
      "[0, 1, 2, 3, 4, 5, 6, 7, 8, 9, 10, 11, 12, 13, 14, 15, 16, 17, 18, 19]\n"
     ]
    },
    {
     "data": {
      "text/plain": [
       "list"
      ]
     },
     "execution_count": 58,
     "metadata": {},
     "output_type": "execute_result"
    }
   ],
   "source": [
    "a=input().split()\n",
    "a = [int(i) for i in a]\n",
    "print(a)\n",
    "type(a)"
   ]
  },
  {
   "cell_type": "code",
   "execution_count": 2,
   "id": "008e27fc-344d-4b09-aec3-239c06faf4e2",
   "metadata": {},
   "outputs": [
    {
     "name": "stdin",
     "output_type": "stream",
     "text": [
      " 1\n",
      " 2\n"
     ]
    },
    {
     "ename": "NameError",
     "evalue": "name 'product' is not defined",
     "output_type": "error",
     "traceback": [
      "\u001b[1;31m---------------------------------------------------------------------------\u001b[0m",
      "\u001b[1;31mNameError\u001b[0m                                 Traceback (most recent call last)",
      "Cell \u001b[1;32mIn[2], line 5\u001b[0m\n\u001b[0;32m      3\u001b[0m b\u001b[38;5;241m=\u001b[39m\u001b[38;5;28minput\u001b[39m()\n\u001b[0;32m      4\u001b[0m int_b\u001b[38;5;241m=\u001b[39m[\u001b[38;5;28mint\u001b[39m(i) \u001b[38;5;28;01mfor\u001b[39;00m i \u001b[38;5;129;01min\u001b[39;00m b]\n\u001b[1;32m----> 5\u001b[0m a\u001b[38;5;241m=\u001b[39mproduct(int_a, int_b)\n\u001b[0;32m      6\u001b[0m \u001b[38;5;28;01mfor\u001b[39;00m i \u001b[38;5;129;01min\u001b[39;00m a:\n\u001b[0;32m      7\u001b[0m     \u001b[38;5;28mprint\u001b[39m(i,end\u001b[38;5;241m=\u001b[39m\u001b[38;5;124m'\u001b[39m\u001b[38;5;124m \u001b[39m\u001b[38;5;124m'\u001b[39m)\n",
      "\u001b[1;31mNameError\u001b[0m: name 'product' is not defined"
     ]
    }
   ],
   "source": [
    "a=input()\n",
    "int_a=[int(i) for i in a]\n",
    "b=input()\n",
    "int_b=[int(i) for i in b]\n",
    "a=product(int_a, int_b)\n",
    "for i in a:\n",
    "    print(i,end=' ')"
   ]
  },
  {
   "cell_type": "code",
   "execution_count": null,
   "id": "2aaa1cfe-0895-4aa0-9adb-a42a2e7efe20",
   "metadata": {},
   "outputs": [],
   "source": []
  },
  {
   "cell_type": "code",
   "execution_count": null,
   "id": "1a301146-5be9-4da7-829a-3e890a259a58",
   "metadata": {},
   "outputs": [],
   "source": []
  },
  {
   "cell_type": "code",
   "execution_count": null,
   "id": "3f5241cc-1daf-4425-a5be-e7939657f4aa",
   "metadata": {},
   "outputs": [],
   "source": []
  },
  {
   "cell_type": "code",
   "execution_count": null,
   "id": "f731a8f4-2baf-4f27-9e20-ac8f3b21834f",
   "metadata": {},
   "outputs": [],
   "source": []
  },
  {
   "cell_type": "code",
   "execution_count": 44,
   "id": "c1bc59bf-895e-42f2-8c84-778f7ab1b421",
   "metadata": {},
   "outputs": [
    {
     "name": "stdout",
     "output_type": "stream",
     "text": [
      "(0, 0) (0, 1) (1, 0) (1, 1) (2, 0) (2, 1) (3, 0) (3, 1) (4, 0) (4, 1) (5, 0) (5, 1) (6, 0) (6, 1) (7, 0) (7, 1) (8, 0) (8, 1) (9, 0) (9, 1) (10, 0) (10, 1) (11, 0) (11, 1) (12, 0) (12, 1) (13, 0) (13, 1) (14, 0) (14, 1) (15, 0) (15, 1) (16, 0) (16, 1) (17, 0) (17, 1) (18, 0) (18, 1) (19, 0) (19, 1) "
     ]
    }
   ],
   "source": [
    "from itertools import product\n",
    "a=(product(a,b))\n",
    "for i in a:\n",
    "    print(i,end=' ')"
   ]
  },
  {
   "cell_type": "code",
   "execution_count": null,
   "id": "2fbc9760-85b2-4496-b282-21d7ca5f522c",
   "metadata": {},
   "outputs": [],
   "source": [
    "Mr. Vincent works in a door mat manufacturing company. One day, he designed a new door mat with the following specifications:\n",
    "\n",
    "Mat size must be N*M X. (N is an odd natural number, and M is 3 times of N.)\n",
    "The design should have 'WELCOME' written in the center.\n",
    "The design pattern should only use |, . and - characters."
   ]
  },
  {
   "cell_type": "code",
   "execution_count": 1,
   "id": "424eb3fd-9829-4d79-a695-6e2797878207",
   "metadata": {},
   "outputs": [
    {
     "name": "stdin",
     "output_type": "stream",
     "text": [
      " 7 21\n"
     ]
    },
    {
     "name": "stdout",
     "output_type": "stream",
     "text": [
      "---------.|.---------\n",
      "------.|..|..|.------\n",
      "---.|..|..|..|..|.---\n",
      "-------WELCOME-------\n",
      "---.|..|..|..|..|.---\n",
      "------.|..|..|.------\n",
      "---------.|.---------\n"
     ]
    }
   ],
   "source": [
    "N, M = map(int,input().split())\n",
    "for i in range(1,N,2):\n",
    "    print((\".|.\"*i).center(M,\"-\"))\n",
    "print(\"WELCOME\".center(M,\"-\"))\n",
    "for i in range(N-2,0,-2):\n",
    "    print((\".|.\"*i).center(M,\"-\"))"
   ]
  },
  {
   "cell_type": "raw",
   "id": "72a8b8c4-8c1b-47fc-abb5-44b02399a0ce",
   "metadata": {},
   "source": [
    "----c----\n",
    "--c-b-c--\n",
    "c-b-a-b-c\n",
    "--c-b-c--\n",
    "----c----"
   ]
  },
  {
   "cell_type": "code",
   "execution_count": 13,
   "id": "f3324479-c655-4ea9-a524-a81fe0a6b15e",
   "metadata": {},
   "outputs": [
    {
     "data": {
      "text/plain": [
       "'20'"
      ]
     },
     "execution_count": 13,
     "metadata": {},
     "output_type": "execute_result"
    }
   ],
   "source": [
    "number=20\n",
    "dec=str(number)\n",
    "dec"
   ]
  },
  {
   "cell_type": "code",
   "execution_count": 14,
   "id": "5a91774c-1921-4b6b-844a-2bff5ae1baa0",
   "metadata": {},
   "outputs": [
    {
     "data": {
      "text/plain": [
       "'24'"
      ]
     },
     "execution_count": 14,
     "metadata": {},
     "output_type": "execute_result"
    }
   ],
   "source": [
    "octa=oct(number)[2:]\n",
    "octa"
   ]
  },
  {
   "cell_type": "code",
   "execution_count": 17,
   "id": "9d59e674-dbaa-4636-bb06-3a65fbca0607",
   "metadata": {},
   "outputs": [
    {
     "data": {
      "text/plain": [
       "'14'"
      ]
     },
     "execution_count": 17,
     "metadata": {},
     "output_type": "execute_result"
    }
   ],
   "source": [
    "hexa=hex(number)[2:]\n",
    "hexa"
   ]
  },
  {
   "cell_type": "code",
   "execution_count": 22,
   "id": "aa684de0-dcea-4775-99b3-2f8cdcfa6022",
   "metadata": {},
   "outputs": [],
   "source": [
    "bina=bin(number)[2:]"
   ]
  },
  {
   "cell_type": "code",
   "execution_count": 23,
   "id": "ba86ab66-10a9-46da-a3b6-d58759385454",
   "metadata": {},
   "outputs": [],
   "source": [
    "width=len(bin(number)[2:])"
   ]
  },
  {
   "cell_type": "code",
   "execution_count": 30,
   "id": "801252c3-aee0-4310-83cc-c672c77ac402",
   "metadata": {},
   "outputs": [
    {
     "name": "stdout",
     "output_type": "stream",
     "text": [
      "   20    24    14 10100\n"
     ]
    }
   ],
   "source": [
    "print(dec.rjust(width), octa.rjust(width), hexa.rjust(width), bina.rjust(width))"
   ]
  },
  {
   "cell_type": "code",
   "execution_count": 33,
   "id": "82937c42-0bdf-4aca-8cc0-9365e8603226",
   "metadata": {},
   "outputs": [
    {
     "name": "stdin",
     "output_type": "stream",
     "text": [
      " 17\n"
     ]
    },
    {
     "name": "stdout",
     "output_type": "stream",
     "text": [
      "    1     1     1     1\n",
      "    2     2     2    10\n",
      "    3     3     3    11\n",
      "    4     4     4   100\n",
      "    5     5     5   101\n",
      "    6     6     6   110\n",
      "    7     7     7   111\n",
      "    8    10     8  1000\n",
      "    9    11     9  1001\n",
      "   10    12     a  1010\n",
      "   11    13     b  1011\n",
      "   12    14     c  1100\n",
      "   13    15     d  1101\n",
      "   14    16     e  1110\n",
      "   15    17     f  1111\n",
      "   16    20    10 10000\n",
      "   17    21    11 10001\n"
     ]
    }
   ],
   "source": [
    "width=len(bina)\n",
    "n=int(input())\n",
    "for i in range(1,n+1):\n",
    "    dec=str(i)\n",
    "    octa=oct(i)[2:]\n",
    "    hexa=hex(i)[2:].upper()\n",
    "    bina=bin(i)[2:]\n",
    "    print(dec.rjust(width), octa.rjust(width), hexa.rjust(width), bina.rjust(width))"
   ]
  },
  {
   "cell_type": "code",
   "execution_count": null,
   "id": "0b85ac22-5939-460f-86fe-1bd03b977259",
   "metadata": {},
   "outputs": [],
   "source": [
    "    1     1     1     1\n",
    "    2     2     2    10\n",
    "    3     3     3    11\n",
    "    4     4     4   100\n",
    "    5     5     5   101\n",
    "    6     6     6   110\n",
    "    7     7     7   111\n",
    "    8    10     8  1000\n",
    "    9    11     9  1001\n",
    "   10    12     A  1010\n",
    "   11    13     B  1011\n",
    "   12    14     C  1100\n",
    "   13    15     D  1101\n",
    "   14    16     E  1110\n",
    "   15    17     F  1111\n",
    "   16    20    10 10000\n",
    "   17    21    11 10001"
   ]
  },
  {
   "cell_type": "code",
   "execution_count": 3,
   "id": "93f96e0e-be75-4c12-95e3-5698315f6e00",
   "metadata": {},
   "outputs": [
    {
     "name": "stdout",
     "output_type": "stream",
     "text": [
      "abcd\n",
      "efgh\n",
      "ijkm\n",
      "nopq\n",
      "rstu\n",
      "vwxy\n",
      "z\n"
     ]
    }
   ],
   "source": [
    "a='abcdefghijkmnopqrstuvwxyz'\n",
    "n=4\n",
    "for i in range(0,len(a),n):\n",
    "    print(a[i:i+n]) # four banao\n",
    "    "
   ]
  },
  {
   "cell_type": "code",
   "execution_count": 12,
   "id": "da45b038-a81b-424d-bebc-6edef5385224",
   "metadata": {},
   "outputs": [
    {
     "data": {
      "text/plain": [
       "'--------.|..|.-------'"
      ]
     },
     "execution_count": 12,
     "metadata": {},
     "output_type": "execute_result"
    }
   ],
   "source": [
    "a=(\".|.\"*i).center(21,\"-\")"
   ]
  },
  {
   "cell_type": "code",
   "execution_count": null,
   "id": "36fb59bc-6bda-4b8c-8f5c-6be5e0237fa0",
   "metadata": {},
   "outputs": [],
   "source": [
    "---------.|.---------"
   ]
  },
  {
   "cell_type": "code",
   "execution_count": 29,
   "id": "3ba51a19-88b2-4159-a052-ddf63fed5b61",
   "metadata": {},
   "outputs": [
    {
     "name": "stdout",
     "output_type": "stream",
     "text": [
      "---------.|.---------\n",
      "------.|..|..|.------\n",
      "---.|..|..|..|..|.---\n",
      "-------WELCOME-------\n",
      "---.|..|..|..|..|.---\n",
      "------.|..|..|.------\n",
      "---------.|.---------\n"
     ]
    }
   ],
   "source": [
    "for i in range(0,7):\n",
    "    if i % 2 != 0:\n",
    "        print((\".|.\"*i).center(21,\"-\"))\n",
    "print(\"WELCOME\".center(21,\"-\"))\n",
    "for i in range(7-1,0,-1):\n",
    "    if i % 2 != 0:\n",
    "        print((\".|.\"*i).center(21,\"-\"))"
   ]
  },
  {
   "cell_type": "code",
   "execution_count": 23,
   "id": "c95074e6-c00c-4a9c-9e9a-58019d6dd7ad",
   "metadata": {},
   "outputs": [
    {
     "name": "stdout",
     "output_type": "stream",
     "text": [
      "---.|..|..|..|..|.---\n",
      "------.|..|..|.------\n",
      "---------.|.---------\n"
     ]
    }
   ],
   "source": [
    "for i in range(6,-1,-1):\n",
    "    if i % 2 != 0:\n",
    "        print((\".|.\"*i).center(21,\"-\"))"
   ]
  },
  {
   "cell_type": "code",
   "execution_count": null,
   "id": "d4f78977-f267-49aa-acae-ac8550dd3d03",
   "metadata": {},
   "outputs": [],
   "source": [
    "0 1 2 3 4 5 6 7 "
   ]
  },
  {
   "cell_type": "code",
   "execution_count": 32,
   "id": "48ea86e0-8d69-4f46-a6e1-1bb2c35b47fc",
   "metadata": {},
   "outputs": [
    {
     "name": "stdin",
     "output_type": "stream",
     "text": [
      " 23 43\n"
     ]
    }
   ],
   "source": [
    "M,N=map(int,input().split())"
   ]
  },
  {
   "cell_type": "code",
   "execution_count": 10,
   "id": "182fc571-8720-4c72-96cc-f105fe677435",
   "metadata": {},
   "outputs": [],
   "source": [
    "def solve(s):\n",
    "    a=s.split()\n",
    "    q=''\n",
    "    for i in a:\n",
    "        if i.istitle():\n",
    "            q+=i+' '\n",
    "            \n",
    "        else:\n",
    "            q+=i.title()+ \" \"\n",
    "   \n",
    "    return q"
   ]
  },
  {
   "cell_type": "code",
   "execution_count": 11,
   "id": "7c62589b-6f02-4b35-8103-6761a8bd9e2c",
   "metadata": {},
   "outputs": [
    {
     "data": {
      "text/plain": [
       "'1 W 2 R 3G '"
      ]
     },
     "execution_count": 11,
     "metadata": {},
     "output_type": "execute_result"
    }
   ],
   "source": [
    "solve(\"1 w 2 r 3g\")"
   ]
  },
  {
   "cell_type": "code",
   "execution_count": null,
   "id": "348b0ece-2bbe-4e14-afdd-980d0dea0635",
   "metadata": {},
   "outputs": [],
   "source": [
    "---------.|.---------\n",
    "------.|..|..|.------\n",
    "---.|..|..|..|..|.---\n",
    "-------WELCOME-------\n",
    "---.|..|..|..|..|.---\n",
    "------.|..|..|.------\n",
    "---------.|.---------"
   ]
  },
  {
   "cell_type": "code",
   "execution_count": 15,
   "id": "34e8fbcf-adfb-45f2-b67e-0545ff5cc74d",
   "metadata": {},
   "outputs": [
    {
     "data": {
      "text/plain": [
       "'------.|..|..|.------'"
      ]
     },
     "execution_count": 15,
     "metadata": {},
     "output_type": "execute_result"
    }
   ],
   "source": [
    "(\".|.\"*3).center(21,\"-\")\n",
    "m*n\n",
    "7*21"
   ]
  },
  {
   "cell_type": "code",
   "execution_count": 15,
   "id": "84a4e7f9-0433-4087-8b87-2526baa6d8c2",
   "metadata": {},
   "outputs": [
    {
     "name": "stdout",
     "output_type": "stream",
     "text": [
      "---------.|.---------\n",
      "------.|..|..|.------\n",
      "---.|..|..|..|..|.---\n",
      "-------WELCOME-------\n",
      "---.|..|..|..|..|.---\n",
      "------.|..|..|.------\n",
      "---------.|.---------\n"
     ]
    }
   ],
   "source": [
    "m=7\n",
    "for i in range(1,m,2):\n",
    "    print((\".|.\"*i).center(21,\"-\"))\n",
    "print((\"WELCOME\").center(21,\"-\"))\n",
    "for i in range(m-2,0,-2):\n",
    "    print((\".|.\"*i).center(21,\"-\"))"
   ]
  },
  {
   "cell_type": "code",
   "execution_count": null,
   "id": "478f63e3-42be-4c3c-b359-df31aecba217",
   "metadata": {},
   "outputs": [],
   "source": []
  },
  {
   "cell_type": "code",
   "execution_count": null,
   "id": "88e9e2f3-01be-4002-8903-0315fe917ae5",
   "metadata": {},
   "outputs": [],
   "source": [
    " 0  1   2   3   4   5   6   7\n",
    "-8 -7  -6  -5  -4  -3   -2  -1"
   ]
  },
  {
   "cell_type": "code",
   "execution_count": 7,
   "id": "33497849-5285-4ec6-a6b6-be77202f784f",
   "metadata": {},
   "outputs": [
    {
     "name": "stdout",
     "output_type": "stream",
     "text": [
      "7\n",
      "6\n",
      "5\n",
      "4\n",
      "3\n",
      "2\n",
      "1\n"
     ]
    }
   ],
   "source": [
    "m=7\n",
    "for i in range(m,0,-1):\n",
    "    print(i)"
   ]
  },
  {
   "cell_type": "code",
   "execution_count": 4,
   "id": "c01770b2-6fb4-4903-b6cf-8f0ecc651c91",
   "metadata": {},
   "outputs": [
    {
     "name": "stdout",
     "output_type": "stream",
     "text": [
      "6\n",
      "5\n",
      "4\n",
      "3\n",
      "2\n",
      "1\n"
     ]
    }
   ],
   "source": [
    "for i in range(7-1,0,-1):\n",
    "    print(i)\n"
   ]
  },
  {
   "cell_type": "code",
   "execution_count": 12,
   "id": "1ba562e8-e13e-4b21-ac46-27cc52a51fff",
   "metadata": {},
   "outputs": [
    {
     "name": "stdout",
     "output_type": "stream",
     "text": [
      "1 W 2 R 3g\n"
     ]
    }
   ],
   "source": [
    "s='1 w 2 r 3g'\n",
    "for name in s.split():\n",
    "    s=s.replace(name,name.capitalize())\n",
    "print(s)"
   ]
  },
  {
   "cell_type": "code",
   "execution_count": 7,
   "id": "e84386db-6040-4c60-b337-f58b7e5e9d72",
   "metadata": {},
   "outputs": [
    {
     "data": {
      "text/plain": [
       "'20'"
      ]
     },
     "execution_count": 7,
     "metadata": {},
     "output_type": "execute_result"
    }
   ],
   "source": [
    "number=20\n",
    "dec=str(number)\n",
    "dec"
   ]
  },
  {
   "cell_type": "code",
   "execution_count": 21,
   "id": "d1cb91a7-a3bf-42dd-899b-f0b5754fc1a3",
   "metadata": {},
   "outputs": [
    {
     "data": {
      "text/plain": [
       "'24'"
      ]
     },
     "execution_count": 21,
     "metadata": {},
     "output_type": "execute_result"
    }
   ],
   "source": [
    "oct(number)[-1:-3:-1][::-1]"
   ]
  },
  {
   "cell_type": "code",
   "execution_count": 22,
   "id": "f9e4ca1b-8798-4ce8-98a4-a4e2a42e8434",
   "metadata": {},
   "outputs": [
    {
     "data": {
      "text/plain": [
       "'14'"
      ]
     },
     "execution_count": 22,
     "metadata": {},
     "output_type": "execute_result"
    }
   ],
   "source": [
    "hex(number)[-1:-3:-1][::-1]"
   ]
  },
  {
   "cell_type": "code",
   "execution_count": 23,
   "id": "6662082e-9ee2-47d5-b542-59d92c4ec87c",
   "metadata": {},
   "outputs": [
    {
     "data": {
      "text/plain": [
       "'10100'"
      ]
     },
     "execution_count": 23,
     "metadata": {},
     "output_type": "execute_result"
    }
   ],
   "source": [
    "bin(number)[2:]"
   ]
  },
  {
   "cell_type": "code",
   "execution_count": 24,
   "id": "47393b0c-4d79-46b9-922a-7da392dfe3eb",
   "metadata": {},
   "outputs": [],
   "source": [
    "width=len(bin(number)[2:])"
   ]
  },
  {
   "cell_type": "code",
   "execution_count": null,
   "id": "7d9ba70a-5670-4656-87e6-3fddf20e2bcc",
   "metadata": {},
   "outputs": [],
   "source": [
    "----c----\n",
    "--c-b-c--\n",
    "c-b-a-b-c\n",
    "--c-b-c--\n",
    "----c----"
   ]
  },
  {
   "cell_type": "code",
   "execution_count": null,
   "id": "feea34a1-0db9-4a34-b83c-479b9c5a45a6",
   "metadata": {},
   "outputs": [],
   "source": [
    "size=3\n",
    "a=[chr(i) for i in range(97,123)]\n",
    "a=a[:size]\n",
    "q=list(range(size))\n",
    "q=q+q[:-1][::-1]\n",
    "for i in q:\n",
    "    ind_1=i+1\n",
    "    orignal=a[-ind_1:]\n",
    "    old=orignal[::-1]\n",
    "    s=(old+orignal[1:])\n",
    "    s=\"-\".join(s)\n",
    "    width=size*4-3\n",
    "    print(s.center(width,\"-\"))"
   ]
  },
  {
   "cell_type": "code",
   "execution_count": 19,
   "id": "21778c78-2b8b-4315-8eed-761fed20760e",
   "metadata": {},
   "outputs": [
    {
     "data": {
      "text/plain": [
       "'0b10100'"
      ]
     },
     "execution_count": 19,
     "metadata": {},
     "output_type": "execute_result"
    }
   ],
   "source": [
    "number=20\n",
    "bina=bin(number)\n",
    "bina"
   ]
  },
  {
   "cell_type": "code",
   "execution_count": 44,
   "id": "67625352-46e1-45a5-9037-4582a5777ace",
   "metadata": {},
   "outputs": [],
   "source": [
    "size=4\n",
    "alpha=[chr(i) for i in range(97, size+97)]"
   ]
  },
  {
   "cell_type": "code",
   "execution_count": 46,
   "id": "5501fcc4-cbb1-456d-ac7a-378ddf29a17c",
   "metadata": {},
   "outputs": [
    {
     "ename": "SyntaxError",
     "evalue": "invalid syntax (190373180.py, line 1)",
     "output_type": "error",
     "traceback": [
      "\u001b[1;36m  Cell \u001b[1;32mIn[46], line 1\u001b[1;36m\u001b[0m\n\u001b[1;33m    ----c----\u001b[0m\n\u001b[1;37m             ^\u001b[0m\n\u001b[1;31mSyntaxError\u001b[0m\u001b[1;31m:\u001b[0m invalid syntax\n"
     ]
    }
   ],
   "source": [
    "----c----\n",
    "--c-b-c--\n",
    "c-b-a-b-c 0 1 2 1 0\n",
    "--c-b-c--\n",
    "----c----"
   ]
  },
  {
   "cell_type": "code",
   "execution_count": 66,
   "id": "a99eab59-0d83-4538-932e-ca3feccfc08e",
   "metadata": {},
   "outputs": [
    {
     "name": "stdout",
     "output_type": "stream",
     "text": [
      "----d----\n",
      "--d-c-d--\n",
      "d-c-b-c-d\n",
      "--d-c-d--\n",
      "----d----\n"
     ]
    }
   ],
   "source": [
    "a=[i for i in range(3)]\n",
    "x = a+a[:2][::-1]\n",
    "for i in x:\n",
    "    index=i+1\n",
    "    old=alpha[-index:]\n",
    "    new=old[::-1] + old[1:]\n",
    "    s=\"-\".join(new)\n",
    "    width= 3 *4-3\n",
    "    print(s.center(width,\"-\"))"
   ]
  },
  {
   "cell_type": "code",
   "execution_count": null,
   "id": "aa966a73-b0c9-47e6-9394-157615b60732",
   "metadata": {},
   "outputs": [],
   "source": []
  },
  {
   "cell_type": "code",
   "execution_count": null,
   "id": "e5e87e32-a394-4a8c-a3f5-5a2bf04371a8",
   "metadata": {},
   "outputs": [],
   "source": []
  },
  {
   "cell_type": "code",
   "execution_count": 86,
   "id": "2d17837c-0b5e-452e-8ac1-b0afa82a4bf0",
   "metadata": {},
   "outputs": [],
   "source": [
    "size=3"
   ]
  },
  {
   "cell_type": "code",
   "execution_count": 88,
   "id": "c4f04595-a225-4276-bcac-522cdfc21fc6",
   "metadata": {},
   "outputs": [
    {
     "data": {
      "text/plain": [
       "[0, 1, 2, 1, 0]"
      ]
     },
     "execution_count": 88,
     "metadata": {},
     "output_type": "execute_result"
    }
   ],
   "source": [
    "a=[i for i in range(size)]\n",
    "a=a+a[:-1][::-1]\n",
    "a"
   ]
  },
  {
   "cell_type": "code",
   "execution_count": 102,
   "id": "f882bc77-a027-42b8-a417-4ebdf7faff85",
   "metadata": {},
   "outputs": [
    {
     "name": "stdout",
     "output_type": "stream",
     "text": [
      "----c----\n",
      "--c-b-c--\n",
      "c-b-a-b-c\n",
      "--c-b-c--\n",
      "----c----\n"
     ]
    }
   ],
   "source": [
    "alpha2=[chr(i) for i in range(97, size+97)]\n",
    "a=[i for i in range(size)]\n",
    "a=a+a[:-1][::-1]\n",
    "for i in a:\n",
    "    index2=i+1\n",
    "    old2=alpha2[-index2:]\n",
    "    new=old2[::-1]+old2[1:]\n",
    "    d=\"-\".join(new)\n",
    "    width2=size*4-3\n",
    "    print(d.center(width2,\"-\"))"
   ]
  },
  {
   "cell_type": "code",
   "execution_count": 1,
   "id": "75a191a8-e5f5-4ff3-8029-491efc90da12",
   "metadata": {},
   "outputs": [
    {
     "data": {
      "text/plain": [
       "'My Name'"
      ]
     },
     "execution_count": 1,
     "metadata": {},
     "output_type": "execute_result"
    }
   ],
   "source": [
    "s='my name'\n",
    "s=s.split()\n",
    "a=[i if i.istitle() else i.title() for i in s]\n",
    "\" \".join(a)"
   ]
  },
  {
   "cell_type": "code",
   "execution_count": 5,
   "id": "72c8a23b-c057-4c01-90fb-46ccd8ca28b6",
   "metadata": {},
   "outputs": [
    {
     "data": {
      "text/plain": [
       "'24'"
      ]
     },
     "execution_count": 5,
     "metadata": {},
     "output_type": "execute_result"
    }
   ],
   "source": [
    "oct(20)[2:]"
   ]
  },
  {
   "cell_type": "code",
   "execution_count": 7,
   "id": "a0d42ea4-6d75-4320-9eb5-671994c6d299",
   "metadata": {},
   "outputs": [
    {
     "data": {
      "text/plain": [
       "'0x14'"
      ]
     },
     "execution_count": 7,
     "metadata": {},
     "output_type": "execute_result"
    }
   ],
   "source": [
    "hex(20)"
   ]
  },
  {
   "cell_type": "code",
   "execution_count": 47,
   "id": "47707e34-38ff-450f-baae-cdd63cbb54c6",
   "metadata": {
    "scrolled": true
   },
   "outputs": [
    {
     "name": "stdout",
     "output_type": "stream",
     "text": [
      "----c----\n",
      "--c-b-c--\n",
      "c-b-a-b-c\n",
      "--c-b-c--\n",
      "----c----\n"
     ]
    }
   ],
   "source": [
    "size=3\n",
    "alpha=[chr(i) for i in range(97, size+97)]\n",
    "a=[i for i in range(3)]\n",
    "a=a+a[:2][::-1]\n",
    "for i in a:\n",
    "    index_1=i+1\n",
    "    old=alpha[-index_1:]\n",
    "    new=old[::-1]+old[1:]\n",
    "    chw='-'.join(new)\n",
    "    width=size * 4-3\n",
    "    print(chw.center(width,\"-\"))"
   ]
  },
  {
   "cell_type": "code",
   "execution_count": null,
   "id": "be798fc6-768b-4587-9256-22f1206b7f8f",
   "metadata": {},
   "outputs": [],
   "source": []
  },
  {
   "cell_type": "code",
   "execution_count": 50,
   "id": "8cddb77b-d69f-4b72-8f24-1b8d8ec5eb3b",
   "metadata": {},
   "outputs": [
    {
     "data": {
      "text/plain": [
       "[0, 1]"
      ]
     },
     "execution_count": 50,
     "metadata": {},
     "output_type": "execute_result"
    }
   ],
   "source": [
    "a=[i for i in range(3)]\n",
    "a[:2]"
   ]
  },
  {
   "cell_type": "code",
   "execution_count": 21,
   "id": "2759be2e-dfb8-4f3a-b33e-875b788355cf",
   "metadata": {},
   "outputs": [
    {
     "data": {
      "text/plain": [
       "[0, 1, 2, 1, 0]"
      ]
     },
     "execution_count": 21,
     "metadata": {},
     "output_type": "execute_result"
    }
   ],
   "source": [
    "size=3\n",
    "a=[i for i in range(size)]\n",
    "a+a[:-1][::-1]"
   ]
  },
  {
   "cell_type": "code",
   "execution_count": null,
   "id": "c3277c8c-1ed2-4f7e-9705-628803d5a699",
   "metadata": {},
   "outputs": [],
   "source": [
    "-------e--------\n",
    "------e-d-e------\n",
    "----e-d-c-d-e----\n",
    "--e-d-c-b-c-d-e--\n",
    "e-d-c-b-a-b-c-d-e 0 1 2 3 4   3 2 1 0\n",
    "--e-d-c-b-c-d-e--\n",
    "----e-d-c-d-e----\n",
    "------e-d-e------\n",
    "--------e--------"
   ]
  },
  {
   "cell_type": "code",
   "execution_count": 25,
   "id": "42cab29c-ab71-4f6e-89f4-517cf1ecca5e",
   "metadata": {},
   "outputs": [
    {
     "name": "stdin",
     "output_type": "stream",
     "text": [
      " 376712\n"
     ]
    }
   ],
   "source": [
    "a=int(input())"
   ]
  },
  {
   "cell_type": "code",
   "execution_count": 39,
   "id": "dbbb8717-bf00-480c-b38d-2a853bd9609a",
   "metadata": {},
   "outputs": [
    {
     "name": "stdin",
     "output_type": "stream",
     "text": [
      " 3\n",
      " jdsc\n",
      " cjabs\n",
      " jsbw\n"
     ]
    },
    {
     "data": {
      "text/plain": [
       "8"
      ]
     },
     "execution_count": 39,
     "metadata": {},
     "output_type": "execute_result"
    }
   ],
   "source": [
    "n=int(input())\n",
    "user={\"\"}\n",
    "for i in range(n):\n",
    "    user_input=input()\n",
    "    user.update(user_input)\n",
    "\n",
    "len(user)"
   ]
  },
  {
   "cell_type": "code",
   "execution_count": 47,
   "id": "a145a188-e75d-4170-a13b-66e596547e38",
   "metadata": {},
   "outputs": [
    {
     "name": "stdin",
     "output_type": "stream",
     "text": [
      " 3823\n"
     ]
    }
   ],
   "source": [
    "comm,*num=list(map(int,input().split()))\n",
    "num=list(map(int,num))"
   ]
  },
  {
   "cell_type": "code",
   "execution_count": 5,
   "id": "078e932f-0739-440b-9cc6-39e9b5f06304",
   "metadata": {},
   "outputs": [
    {
     "name": "stdin",
     "output_type": "stream",
     "text": [
      " nadeem 12\n"
     ]
    },
    {
     "name": "stdout",
     "output_type": "stream",
     "text": [
      "nadeem 12\n"
     ]
    }
   ],
   "source": [
    "meth,*num=input().split()\n",
    "num=list(map(int,num))\n",
    "print(meth,num[0])"
   ]
  },
  {
   "cell_type": "code",
   "execution_count": 15,
   "id": "5292d362-a0bc-4b56-b248-8717287d3ab3",
   "metadata": {},
   "outputs": [
    {
     "name": "stdin",
     "output_type": "stream",
     "text": [
      " 1 2 3\n"
     ]
    }
   ],
   "source": [
    "A=set(map(int,input().split()))\n"
   ]
  },
  {
   "cell_type": "code",
   "execution_count": null,
   "id": "f81ef1b5-ca7e-4224-937a-736b92efb9f0",
   "metadata": {},
   "outputs": [],
   "source": []
  }
 ],
 "metadata": {
  "kernelspec": {
   "display_name": "Python 3 (ipykernel)",
   "language": "python",
   "name": "python3"
  },
  "language_info": {
   "codemirror_mode": {
    "name": "ipython",
    "version": 3
   },
   "file_extension": ".py",
   "mimetype": "text/x-python",
   "name": "python",
   "nbconvert_exporter": "python",
   "pygments_lexer": "ipython3",
   "version": "3.12.4"
  }
 },
 "nbformat": 4,
 "nbformat_minor": 5
}
