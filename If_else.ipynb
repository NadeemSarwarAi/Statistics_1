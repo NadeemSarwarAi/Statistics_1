{
 "cells": [
  {
   "cell_type": "markdown",
   "id": "f6f2945f-de20-467a-a1e1-4f79a30e70c8",
   "metadata": {},
   "source": [
    "**1. Write a Python Program to Check weather a candidate Eligible for Vote or not.**"
   ]
  },
  {
   "cell_type": "code",
   "execution_count": 3,
   "id": "34b97bf0-1436-4a2d-aace-6fb3ce5bf77a",
   "metadata": {},
   "outputs": [
    {
     "name": "stdin",
     "output_type": "stream",
     "text": [
      "Candidate Name  Nadeem\n",
      "Candidate Age  14\n",
      "Minimum Age  18\n"
     ]
    },
    {
     "name": "stdout",
     "output_type": "stream",
     "text": [
      "You have to wait for 4 years to cast a vote\n"
     ]
    }
   ],
   "source": [
    "candidate_name=input(\"Candidate Name \")\n",
    "candidate_age=eval(input(\"Candidate Age \"))\n",
    "minumum_age=eval(input(\"Minimum Age as per Govt \"))\n",
    "\n",
    "if candidate_age >= minumum_age:\n",
    "    print(f\"{candidate_name} is eligible for voting\")\n",
    "else:\n",
    "    waiting_time=minumum_age-candidate_age\n",
    "    print(f\"You have to wait for {waiting_time} years to cast a vote\")\n",
    "    "
   ]
  },
  {
   "cell_type": "markdown",
   "id": "9cab6e9d-bd41-434f-a7be-f25bfb99b9ab",
   "metadata": {},
   "source": [
    "**2.Write a program to display “Hello” if a number entered by user is a multiple of five , otherwise print “Bye**"
   ]
  },
  {
   "cell_type": "code",
   "execution_count": 5,
   "id": "81fff1e8-5864-49ce-ac03-2da11185bf9a",
   "metadata": {},
   "outputs": [
    {
     "name": "stdin",
     "output_type": "stream",
     "text": [
      "Number  23\n"
     ]
    },
    {
     "name": "stdout",
     "output_type": "stream",
     "text": [
      "bye\n"
     ]
    }
   ],
   "source": [
    "user=eval(input(\"Number \"))\n",
    "if user % 5 == 0:\n",
    "    print(\"hello\")\n",
    "else:\n",
    "    print(\"bye\")"
   ]
  },
  {
   "cell_type": "markdown",
   "id": "30b4775e-ccc2-488b-8dda-1abd4ebe5f06",
   "metadata": {},
   "source": [
    "**3.Write a program that interprets the Body Mass Index (BMI) based on a user’s weight and height.<br>\n",
    "It should tell them the interpretation of their BMI based on the BMI value.<br>**\n",
    "- Under 18.5 they are underweight\n",
    "- Over 18.5 but below 25 they have a normal weight\n",
    "- Over 25 but below 30 they are slightly overweight\n",
    "- Over 30 but below 35 they are obese\n",
    "- Above 35 they are clinically obese."
   ]
  },
  {
   "cell_type": "code",
   "execution_count": 19,
   "id": "3a28d7a1-71d3-42f1-8562-bdaf8265fea7",
   "metadata": {},
   "outputs": [
    {
     "name": "stdin",
     "output_type": "stream",
     "text": [
      "Weight in KG  38\n",
      "In Ft  7.9\n"
     ]
    },
    {
     "name": "stdout",
     "output_type": "stream",
     "text": [
      "Under_weight\n"
     ]
    }
   ],
   "source": [
    "#BMI= weight in kg/ (height)**2 in m\n",
    "user_weight=eval(input(\"Weight in KG \"))\n",
    "user_height=eval(input(\"In Ft \"))\n",
    "height_cal=(user_height * 0.3048)**2\n",
    "bmi=(user_weight/height_cal)\n",
    "if bmi  < 18.5:\n",
    "    print(\"Under_weight\")\n",
    "elif bmi > 18.5:\n",
    "    print('normal weight')\n",
    "elif bmi > 25:\n",
    "    print(\"Slightly overweight\")\n",
    "elif bmi > 30:\n",
    "    print(\"obese\")\n",
    "else:\n",
    "    print(\"clinically obese.\")\n"
   ]
  },
  {
   "cell_type": "code",
   "execution_count": 1,
   "id": "88938f93-64f2-4b2a-b426-7d534e43c3eb",
   "metadata": {},
   "outputs": [
    {
     "name": "stdin",
     "output_type": "stream",
     "text": [
      "enter the unit  540\n"
     ]
    },
    {
     "name": "stdout",
     "output_type": "stream",
     "text": [
      "3900\n"
     ]
    }
   ],
   "source": [
    "user_unit=eval(input(\"enter the unit \"))\n",
    "if user_unit <= 100:\n",
    "    print(\"free\")\n",
    "elif user_unit <= 200:\n",
    "    dedcution_200=user_unit-100\n",
    "    cost200=dedcution_200 * 5\n",
    "    print(cost200)\n",
    "else:\n",
    "    deduction_more=user_unit-100\n",
    "    deduction_more2=deduction_more-100\n",
    "    cost=100*5\n",
    "    cost1=deduction_more2*10 + cost\n",
    "    print(cost1)\n",
    "    "
   ]
  },
  {
   "cell_type": "code",
   "execution_count": 10,
   "id": "dcb0f594-fe6a-4382-b34e-4e604be149bc",
   "metadata": {},
   "outputs": [
    {
     "name": "stdin",
     "output_type": "stream",
     "text": [
      "Your total Balance nv\n"
     ]
    },
    {
     "ename": "NameError",
     "evalue": "name 'nv' is not defined",
     "output_type": "error",
     "traceback": [
      "\u001b[1;31m---------------------------------------------------------------------------\u001b[0m",
      "\u001b[1;31mNameError\u001b[0m                                 Traceback (most recent call last)",
      "Cell \u001b[1;32mIn[10], line 1\u001b[0m\n\u001b[1;32m----> 1\u001b[0m total_balance\u001b[38;5;241m=\u001b[39m\u001b[38;5;28meval\u001b[39m(\u001b[38;5;28minput\u001b[39m(\u001b[38;5;124m\"\u001b[39m\u001b[38;5;124mYour total Balance\u001b[39m\u001b[38;5;124m\"\u001b[39m ))\n\u001b[0;32m      2\u001b[0m service_charge\u001b[38;5;241m=\u001b[39m\u001b[38;5;241m0.5\u001b[39m\n\u001b[0;32m      3\u001b[0m user_withdrawl\u001b[38;5;241m=\u001b[39m\u001b[38;5;28meval\u001b[39m(\u001b[38;5;28minput\u001b[39m(\u001b[38;5;124mf\u001b[39m\u001b[38;5;124m\"\u001b[39m\u001b[38;5;124mHii how much Amount you want to withdrawl in multiple of 5 only\u001b[39m\u001b[38;5;124m\"\u001b[39m))\n",
      "File \u001b[1;32m<string>:1\u001b[0m\n",
      "\u001b[1;31mNameError\u001b[0m: name 'nv' is not defined"
     ]
    }
   ],
   "source": [
    "total_balance=eval(input(\"Your total Balance\" ))\n",
    "service_charge=0.5\n",
    "user_withdrawl=eval(input(f\"Hii how much Amount you want to withdrawl in multiple of 5 only\"))\n",
    "if user_withdrawl % 5==0:\n",
    "    left_over=total_balance-user_withdrawl\n",
    "    final_leftover=left_over - service_charge\n",
    "    print(f'Wait for the cash {final_leftover}')\n",
    "    \n",
    "elif user_withdrawl < (total_balance + service_charge):\n",
    "    print(f'insufficient fund {total_balence}')\n",
    "else:\n",
    "    print(\"please type the number whish is multiple of 5\")\n",
    "    print(f'balance {total_balance}')"
   ]
  },
  {
   "cell_type": "code",
   "execution_count": 41,
   "id": "e3e72e7c-b3b6-4b24-b78b-157e32ccea44",
   "metadata": {},
   "outputs": [
    {
     "name": "stdin",
     "output_type": "stream",
     "text": [
      " 1234\n"
     ]
    },
    {
     "name": "stdout",
     "output_type": "stream",
     "text": [
      "5\n"
     ]
    }
   ],
   "source": [
    "n1=input(\"\")\n",
    "n2=int(n1[0])\n",
    "n3=int(n1[-1])\n",
    "print(n2+n3)"
   ]
  },
  {
   "cell_type": "code",
   "execution_count": 15,
   "id": "c3739c1d-bc6b-4537-a399-846d837380d8",
   "metadata": {},
   "outputs": [
    {
     "name": "stdin",
     "output_type": "stream",
     "text": [
      "Age  16\n"
     ]
    },
    {
     "name": "stdout",
     "output_type": "stream",
     "text": [
      "you are eligible\n"
     ]
    }
   ],
   "source": [
    "user_age=int(input(\"Age \"))\n",
    "if user_age < 17 and user_age > 4:\n",
    "    print(\"you are eligible\")\n",
    "else:\n",
    "    print('You are not')"
   ]
  },
  {
   "cell_type": "code",
   "execution_count": 25,
   "id": "6af561ba-f104-4dfc-8caa-2f0af9ffe647",
   "metadata": {},
   "outputs": [
    {
     "name": "stdin",
     "output_type": "stream",
     "text": [
      " 1\n",
      " 3\n",
      " 2\n"
     ]
    },
    {
     "name": "stdout",
     "output_type": "stream",
     "text": [
      "3\n"
     ]
    }
   ],
   "source": [
    "x=eval(input())\n",
    "y=eval(input())\n",
    "z=eval(input())\n",
    "if x>y and x>z:\n",
    "    print(x)\n",
    "elif y > z:\n",
    "    print(y)\n",
    "else:\n",
    "    print(z)"
   ]
  },
  {
   "cell_type": "code",
   "execution_count": null,
   "id": "5cf4c4ac-b9f3-42c1-bacd-6c01af3dd0a5",
   "metadata": {},
   "outputs": [],
   "source": []
  }
 ],
 "metadata": {
  "kernelspec": {
   "display_name": "Python 3 (ipykernel)",
   "language": "python",
   "name": "python3"
  },
  "language_info": {
   "codemirror_mode": {
    "name": "ipython",
    "version": 3
   },
   "file_extension": ".py",
   "mimetype": "text/x-python",
   "name": "python",
   "nbconvert_exporter": "python",
   "pygments_lexer": "ipython3",
   "version": "3.11.5"
  }
 },
 "nbformat": 4,
 "nbformat_minor": 5
}
